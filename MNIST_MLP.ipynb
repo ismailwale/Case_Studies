{
  "nbformat": 4,
  "nbformat_minor": 0,
  "metadata": {
    "colab": {
      "name": "MNIST_MLP.ipynb",
      "version": "0.3.2",
      "provenance": [],
      "include_colab_link": true
    },
    "language_info": {
      "codemirror_mode": {
        "name": "ipython",
        "version": 3
      },
      "file_extension": ".py",
      "mimetype": "text/x-python",
      "name": "python",
      "nbconvert_exporter": "python",
      "pygments_lexer": "ipython3",
      "version": "3.6.2"
    },
    "kernelspec": {
      "display_name": "Python 3",
      "language": "python",
      "name": "python3"
    }
  },
  "cells": [
    {
      "cell_type": "markdown",
      "metadata": {
        "id": "view-in-github",
        "colab_type": "text"
      },
      "source": [
        "<a href=\"https://colab.research.google.com/github/toraaglobal/Case_Studies/blob/master/MNIST_MLP.ipynb\" target=\"_parent\"><img src=\"https://colab.research.google.com/assets/colab-badge.svg\" alt=\"Open In Colab\"/></a>"
      ]
    },
    {
      "cell_type": "code",
      "metadata": {
        "id": "YXgunX5OrOfV",
        "colab_type": "code",
        "colab": {}
      },
      "source": [
        "# BASED ON RASCHKA (2015)\n",
        "\n",
        "import os\n",
        "import struct\n",
        "import numpy as np\n",
        "import pandas\n",
        "\n",
        "import time\n",
        "import matplotlib.pyplot as plt\n",
        "%matplotlib inline"
      ],
      "execution_count": 0,
      "outputs": []
    },
    {
      "cell_type": "code",
      "metadata": {
        "id": "ZVtScDoNrOfd",
        "colab_type": "code",
        "colab": {}
      },
      "source": [
        "# MIGHT NEED TO CHANGE PATH BASED ON HOW YOU EXTRACT MNIST\n",
        "# THIS FILE ADDS *-labels DOT idx*-ubyte TO PATH\n",
        "def load_trmnist(path, kind='train'):\n",
        "    \"\"\"Load MNIST data from `path`\"\"\"\n",
        "    labels_path = os.path.join(path, '%s-labels.idx1-ubyte' % kind)\n",
        "    images_path = os.path.join(path, '%s-images.idx3-ubyte' % kind)\n",
        "        \n",
        "    with open(labels_path, 'rb') as lbpath:\n",
        "        magic, n = struct.unpack('>II', lbpath.read(8))\n",
        "        labels = np.fromfile(lbpath, dtype=np.uint8)\n",
        "\n",
        "    with open(images_path, 'rb') as imgpath:\n",
        "        magic, num, rows, cols = struct.unpack(\">IIII\", imgpath.read(16))\n",
        "        images = np.fromfile(imgpath, dtype=np.uint8).reshape(len(labels), 784)\n",
        " \n",
        "    return images, labels"
      ],
      "execution_count": 0,
      "outputs": []
    },
    {
      "cell_type": "code",
      "metadata": {
        "id": "9QD8zUimrOfh",
        "colab_type": "code",
        "colab": {}
      },
      "source": [
        "# MIGHT NEED TO CHANGE PATH BASED ON HOW YOU EXTRACT MNIST\n",
        "# THIS FILE ADDS *-labels DOT idx*-ubyte TO PATH\n",
        "def load_temnist(path, kind='t10k'):\n",
        "    \"\"\"Load MNIST data from `path`\"\"\"\n",
        "    labels_path = os.path.join(path, '%s-labels.idx1-ubyte'  % kind)\n",
        "    images_path = os.path.join(path, '%s-images.idx3-ubyte'  % kind)\n",
        "        \n",
        "    with open(labels_path, 'rb') as lbpath:\n",
        "        magic, n = struct.unpack('>II', lbpath.read(8))\n",
        "        labels = np.fromfile(lbpath,  dtype=np.uint8)\n",
        "\n",
        "    with open(images_path, 'rb') as imgpath:\n",
        "        magic, num, rows, cols = struct.unpack(\">IIII\", imgpath.read(16))\n",
        "        images = np.fromfile(imgpath, dtype=np.uint8).reshape(len(labels), 784)\n",
        " \n",
        "    return images, labels"
      ],
      "execution_count": 0,
      "outputs": []
    },
    {
      "cell_type": "code",
      "metadata": {
        "id": "sXmVGq5H1kuZ",
        "colab_type": "code",
        "colab": {
          "base_uri": "https://localhost:8080/",
          "height": 259
        },
        "outputId": "a33cea1c-c174-4014-a6c9-4e808457fb90"
      },
      "source": [
        "\n",
        "#Packages\n",
        "import os\n",
        "print(os.listdir('./'))\n",
        "\n",
        "from google.colab import drive\n",
        "drive.mount('/content/drive')\n",
        "\n",
        "os.chdir('./drive/My Drive/Colab Notebooks/data')"
      ],
      "execution_count": 18,
      "outputs": [
        {
          "output_type": "stream",
          "text": [
            "['Coaches9.csv', 'kaggle', 'kaggle-2.json', 'kaggle.json', 'mueller-report-searchable.pdf', 'gcr.csv', 'coach_plus2.csv', 'coach_plus3.pickle', 'coach_model.pickle', 'champagne.csv', 'TimeSeriesHoliday.csv', 'Dept25.csv', 'Dept80.csv', 'Dept1.csv', 'Dept94.csv', 'stationary.csv', 'dataset.csv', 'validation.csv', 'model.pkl', 'model_bias.npy', 'OnCampusWeeklyData.csv', 'deception_data_converted_final.csv', 'CleanText.csv', 'MyOutputFile.txt', 'kaggle-sentiment', 'salt', 'houses_data.txt', 'zillow', 'metro.csv', 'housing', 'Batch_3638821_batch_results_20_1.csv', 'Batch_3638820_batch_results_20_2.csv', 'Batch_3638819_batch_results_20_3.csv', 'kaggle_submission_linearSVC.csv', 'kaggle_submission_linearSVC-0.2.csv', 'kaggle_submission_linearSVC-stem.csv', 'kaggle_submission_linearSVC-final.csv', 'titanic', 'mnist_data']\n",
            "Drive already mounted at /content/drive; to attempt to forcibly remount, call drive.mount(\"/content/drive\", force_remount=True).\n"
          ],
          "name": "stdout"
        },
        {
          "output_type": "error",
          "ename": "FileNotFoundError",
          "evalue": "ignored",
          "traceback": [
            "\u001b[0;31m---------------------------------------------------------------------------\u001b[0m",
            "\u001b[0;31mFileNotFoundError\u001b[0m                         Traceback (most recent call last)",
            "\u001b[0;32m<ipython-input-18-c1aeba9c214e>\u001b[0m in \u001b[0;36m<module>\u001b[0;34m()\u001b[0m\n\u001b[1;32m      5\u001b[0m \u001b[0mdrive\u001b[0m\u001b[0;34m.\u001b[0m\u001b[0mmount\u001b[0m\u001b[0;34m(\u001b[0m\u001b[0;34m'/content/drive'\u001b[0m\u001b[0;34m)\u001b[0m\u001b[0;34m\u001b[0m\u001b[0;34m\u001b[0m\u001b[0m\n\u001b[1;32m      6\u001b[0m \u001b[0;34m\u001b[0m\u001b[0m\n\u001b[0;32m----> 7\u001b[0;31m \u001b[0mos\u001b[0m\u001b[0;34m.\u001b[0m\u001b[0mchdir\u001b[0m\u001b[0;34m(\u001b[0m\u001b[0;34m'./drive/My Drive/Colab Notebooks/data'\u001b[0m\u001b[0;34m)\u001b[0m\u001b[0;34m\u001b[0m\u001b[0;34m\u001b[0m\u001b[0m\n\u001b[0m",
            "\u001b[0;31mFileNotFoundError\u001b[0m: [Errno 2] No such file or directory: './drive/My Drive/Colab Notebooks/data'"
          ]
        }
      ]
    },
    {
      "cell_type": "code",
      "metadata": {
        "id": "lD0xbm4e3u3A",
        "colab_type": "code",
        "colab": {
          "base_uri": "https://localhost:8080/",
          "height": 55
        },
        "outputId": "79c44c87-d18c-4d08-f0bb-9229329f3482"
      },
      "source": [
        "print(os.listdir())"
      ],
      "execution_count": 10,
      "outputs": [
        {
          "output_type": "stream",
          "text": [
            "['Coaches9.csv', 'kaggle', 'kaggle-2.json', 'kaggle.json', 'mueller-report-searchable.pdf', 'gcr.csv', 'coach_plus2.csv', 'coach_plus3.pickle', 'coach_model.pickle', 'champagne.csv', 'TimeSeriesHoliday.csv', 'Dept25.csv', 'Dept80.csv', 'Dept1.csv', 'Dept94.csv', 'stationary.csv', 'dataset.csv', 'validation.csv', 'model.pkl', 'model_bias.npy', 'OnCampusWeeklyData.csv', 'deception_data_converted_final.csv', 'CleanText.csv', 'MyOutputFile.txt', 'kaggle-sentiment', 'salt', 'houses_data.txt', 'zillow', 'metro.csv', 'housing', 'Batch_3638821_batch_results_20_1.csv', 'Batch_3638820_batch_results_20_2.csv', 'Batch_3638819_batch_results_20_3.csv', 'kaggle_submission_linearSVC.csv', 'kaggle_submission_linearSVC-0.2.csv', 'kaggle_submission_linearSVC-stem.csv', 'kaggle_submission_linearSVC-final.csv', 'titanic', 'mnist_data']\n"
          ],
          "name": "stdout"
        }
      ]
    },
    {
      "cell_type": "code",
      "metadata": {
        "id": "zQiGrXQjrOfk",
        "colab_type": "code",
        "colab": {}
      },
      "source": [
        "X_train, y_train = load_trmnist('./mnist_data/', kind='train')"
      ],
      "execution_count": 0,
      "outputs": []
    },
    {
      "cell_type": "code",
      "metadata": {
        "id": "adDT88EfrOfq",
        "colab_type": "code",
        "colab": {
          "base_uri": "https://localhost:8080/",
          "height": 35
        },
        "outputId": "4798a8c5-6051-4d17-e582-8bdd30982040"
      },
      "source": [
        "print('Rows: %d, columns: %d' % (X_train.shape[0], X_train.shape[1]))"
      ],
      "execution_count": 20,
      "outputs": [
        {
          "output_type": "stream",
          "text": [
            "Rows: 60000, columns: 784\n"
          ],
          "name": "stdout"
        }
      ]
    },
    {
      "cell_type": "code",
      "metadata": {
        "id": "LjqkYBnKrOfw",
        "colab_type": "code",
        "colab": {
          "base_uri": "https://localhost:8080/",
          "height": 35
        },
        "outputId": "1f746bec-e08c-4f84-dd68-dbb3ba18d353"
      },
      "source": [
        "X_test, y_test = load_temnist('mnist_data/', kind='t10k')\n",
        "print('Rows: %d, columns: %d' % (X_test.shape[0], X_test.shape[1]))"
      ],
      "execution_count": 21,
      "outputs": [
        {
          "output_type": "stream",
          "text": [
            "Rows: 10000, columns: 784\n"
          ],
          "name": "stdout"
        }
      ]
    },
    {
      "cell_type": "code",
      "metadata": {
        "id": "LpUSNoCZrOf1",
        "colab_type": "code",
        "colab": {
          "base_uri": "https://localhost:8080/",
          "height": 226
        },
        "outputId": "fdc9625a-9822-499f-c3e2-656b6e323427"
      },
      "source": [
        "# VISUALIZE EACH OF THE DIGITS\n",
        "\n",
        "fig, ax = plt.subplots(nrows=2, ncols=5, sharex=True, sharey=True,)\n",
        "ax = ax.flatten()\n",
        "for i in range(10):\n",
        "    img = X_train[y_train == i][0].reshape(28, 28)\n",
        "    ax[i].imshow(img, cmap='Greys', interpolation='nearest')\n",
        "\n",
        "ax[0].set_xticks([])\n",
        "ax[0].set_yticks([])\n",
        "plt.tight_layout()\n",
        "# plt.savefig('./figures/mnist_all.png', dpi=300)\n",
        "plt.show()"
      ],
      "execution_count": 22,
      "outputs": [
        {
          "output_type": "display_data",
          "data": {
            "image/png": "[encoded data removed]",
            "text/plain": [
              "<Figure size 432x288 with 10 Axes>"
            ]
          },
          "metadata": {
            "tags": []
          }
        }
      ]
    },
    {
      "cell_type": "code",
      "metadata": {
        "id": "T33la0OkrOf-",
        "colab_type": "code",
        "colab": {
          "base_uri": "https://localhost:8080/",
          "height": 297
        },
        "outputId": "de6555de-521e-4a97-afa7-631266912f4c"
      },
      "source": [
        "# VISUALIZE DIFFERENT VARIATIONS OF 9\n",
        "\n",
        "fig, ax = plt.subplots(nrows=5, ncols=4, sharex=True, sharey=True,)\n",
        "ax = ax.flatten()\n",
        "for i in range(20):\n",
        "    img = X_train[y_train == 9][i].reshape(28, 28)\n",
        "    ax[i].imshow(img, cmap='Greys', interpolation='nearest')\n",
        "\n",
        "ax[0].set_xticks([])\n",
        "ax[0].set_yticks([])\n",
        "plt.tight_layout()\n",
        "# plt.savefig('./figures/mnist_9.png', dpi=300)\n",
        "plt.show()"
      ],
      "execution_count": 23,
      "outputs": [
        {
          "output_type": "display_data",
          "data": {
            "image/png": "[encoded data removed]",
            "text/plain": [
              "<Figure size 432x288 with 20 Axes>"
            ]
          },
          "metadata": {
            "tags": []
          }
        }
      ]
    },
    {
      "cell_type": "code",
      "metadata": {
        "id": "yFO6gNIQrOgC",
        "colab_type": "code",
        "colab": {}
      },
      "source": [
        "# CODE FROM RASCHKA (2015) TO OUTPUT TO CSV\n",
        "# REQUIRES LARGE STORAGE AND SLOW PROCESSING TIME TO READ CSV BACK\n",
        "# RECOMMEND STICKING WITH IMPORTED UBYTE FROM ABOVE\n",
        "\n",
        "# np.savetxt('train_img.csv', X_train, fmt='%i', delimiter=',')\n",
        "# np.savetxt('train_labels.csv', y_train, fmt='%i', delimiter=',')\n",
        "# X_train = np.genfromtxt('train_img.csv', dtype=int, delimiter=',')\n",
        "# y_train = np.genfromtxt('train_labels.csv', dtype=int, delimiter=',')\n",
        "\n",
        "# np.savetxt('test_img.csv', X_test, fmt='%i', delimiter=',')\n",
        "# np.savetxt('test_labels.csv', y_test, fmt='%i', delimiter=',')\n",
        "# X_test = np.genfromtxt('test_img.csv', dtype=int, delimiter=',')\n",
        "# y_test = np.genfromtxt('test_labels.csv', dtype=int, delimiter=',')"
      ],
      "execution_count": 0,
      "outputs": []
    },
    {
      "cell_type": "code",
      "metadata": {
        "id": "VEc9kHzfrOgM",
        "colab_type": "code",
        "colab": {}
      },
      "source": [
        "# FIRST PASS WITH MLP\n",
        "\n",
        "import numpy as np\n",
        "from scipy.special import expit\n",
        "import sys\n",
        "\n",
        "\n",
        "class NeuralNetMLP(object):\n",
        "    \"\"\" Feedforward neural network / Multi-layer perceptron classifier.\n",
        "\n",
        "    Parameters\n",
        "    ------------\n",
        "    n_output : int\n",
        "      Number of output units, should be equal to the\n",
        "      number of unique class labels.\n",
        "\n",
        "    n_features : int\n",
        "      Number of features (dimensions) in the target dataset.\n",
        "      Should be equal to the number of columns in the X array.\n",
        "\n",
        "    n_hidden : int (default: 30)\n",
        "      Number of hidden units.\n",
        "\n",
        "    l1 : float (default: 0.0)\n",
        "      Lambda value for L1-regularization.\n",
        "      No regularization if l1=0.0 (default)\n",
        "\n",
        "    l2 : float (default: 0.0)\n",
        "      Lambda value for L2-regularization.\n",
        "      No regularization if l2=0.0 (default)\n",
        "\n",
        "    epochs : int (default: 500)\n",
        "      Number of passes over the training set.\n",
        "\n",
        "    eta : float (default: 0.001)\n",
        "      Learning rate.\n",
        "\n",
        "    alpha : float (default: 0.0)\n",
        "      Momentum constant. Factor multiplied with the\n",
        "      gradient of the previous epoch t-1 to improve\n",
        "      learning speed\n",
        "      w(t) := w(t) - (grad(t) + alpha*grad(t-1))\n",
        "    \n",
        "    decrease_const : float (default: 0.0)\n",
        "      Decrease constant. Shrinks the learning rate\n",
        "      after each epoch via eta / (1 + epoch*decrease_const)\n",
        "\n",
        "    shuffle : bool (default: True)\n",
        "      Shuffles training data every epoch if True to prevent circles.\n",
        "\n",
        "    minibatches : int (default: 1)\n",
        "      Divides training data into k minibatches for efficiency.\n",
        "      Normal gradient descent learning if k=1 (default).\n",
        "\n",
        "    random_state : int (default: None)\n",
        "      Set random state for shuffling and initializing the weights.\n",
        "\n",
        "    Attributes\n",
        "    -----------\n",
        "    cost_ : list\n",
        "      Sum of squared errors after each epoch.\n",
        "\n",
        "    \"\"\"\n",
        "    def __init__(self, n_output, n_features, n_hidden=30,\n",
        "                 l1=0.0, l2=0.0, epochs=500, eta=0.001, \n",
        "                 alpha=0.0, decrease_const=0.0, shuffle=True, \n",
        "                 minibatches=1, random_state=None):\n",
        "\n",
        "        np.random.seed(random_state)\n",
        "        self.n_output = n_output\n",
        "        self.n_features = n_features\n",
        "        self.n_hidden = n_hidden\n",
        "        self.w1, self.w2 = self._initialize_weights()\n",
        "        self.l1 = l1\n",
        "        self.l2 = l2\n",
        "        self.epochs = epochs\n",
        "        self.eta = eta\n",
        "        self.alpha = alpha\n",
        "        self.decrease_const = decrease_const\n",
        "        self.shuffle = shuffle\n",
        "        self.minibatches = minibatches\n",
        "\n",
        "    def _encode_labels(self, y, k):\n",
        "        \"\"\"Encode labels into one-hot representation\n",
        "\n",
        "        Parameters\n",
        "        ------------\n",
        "        y : array, shape = [n_samples]\n",
        "            Target values.\n",
        "\n",
        "        Returns\n",
        "        -----------\n",
        "        onehot : array, shape = (n_labels, n_samples)\n",
        "\n",
        "        \"\"\"\n",
        "        onehot = np.zeros((k, y.shape[0]))\n",
        "        for idx, val in enumerate(y):\n",
        "            onehot[val, idx] = 1.0\n",
        "        return onehot\n",
        "\n",
        "    def _initialize_weights(self):\n",
        "        \"\"\"Initialize weights with small random numbers.\"\"\"\n",
        "        w1 = np.random.uniform(-1.0, 1.0, size=self.n_hidden*(self.n_features + 1))\n",
        "        w1 = w1.reshape(self.n_hidden, self.n_features + 1)\n",
        "        w2 = np.random.uniform(-1.0, 1.0, size=self.n_output*(self.n_hidden + 1))\n",
        "        w2 = w2.reshape(self.n_output, self.n_hidden + 1)\n",
        "        return w1, w2\n",
        "\n",
        "    def _sigmoid(self, z):\n",
        "        \"\"\"Compute logistic function (sigmoid)\n",
        "\n",
        "        Uses scipy.special.expit to avoid overflow\n",
        "        error for very small input values z.\n",
        "\n",
        "        \"\"\"\n",
        "        # return 1.0 / (1.0 + np.exp(-z))\n",
        "        return expit(z)\n",
        "\n",
        "    def _sigmoid_gradient(self, z):\n",
        "        \"\"\"Compute gradient of the logistic function\"\"\"\n",
        "        sg = self._sigmoid(z)\n",
        "        return sg * (1 - sg)\n",
        "\n",
        "    def _add_bias_unit(self, X, how='column'):\n",
        "        \"\"\"Add bias unit (column or row of 1s) to array at index 0\"\"\"\n",
        "        if how == 'column':\n",
        "            X_new = np.ones((X.shape[0], X.shape[1]+1))\n",
        "            X_new[:, 1:] = X\n",
        "        elif how == 'row':\n",
        "            X_new = np.ones((X.shape[0]+1, X.shape[1]))\n",
        "            X_new[1:, :] = X\n",
        "        else:\n",
        "            raise AttributeError('`how` must be `column` or `row`')\n",
        "        return X_new\n",
        "\n",
        "    def _feedforward(self, X, w1, w2):\n",
        "        \"\"\"Compute feedforward step\n",
        "\n",
        "        Parameters\n",
        "        -----------\n",
        "        X : array, shape = [n_samples, n_features]\n",
        "          Input layer with original features.\n",
        "\n",
        "        w1 : array, shape = [n_hidden_units, n_features]\n",
        "          Weight matrix for input layer -> hidden layer.\n",
        "\n",
        "        w2 : array, shape = [n_output_units, n_hidden_units]\n",
        "          Weight matrix for hidden layer -> output layer.\n",
        "\n",
        "        Returns\n",
        "        ----------\n",
        "        a1 : array, shape = [n_samples, n_features+1]\n",
        "          Input values with bias unit.\n",
        "\n",
        "        z2 : array, shape = [n_hidden, n_samples]\n",
        "          Net input of hidden layer.\n",
        "\n",
        "        a2 : array, shape = [n_hidden+1, n_samples]\n",
        "          Activation of hidden layer.\n",
        "\n",
        "        z3 : array, shape = [n_output_units, n_samples]\n",
        "          Net input of output layer.\n",
        "\n",
        "        a3 : array, shape = [n_output_units, n_samples]\n",
        "          Activation of output layer.\n",
        "\n",
        "        \"\"\"\n",
        "        a1 = self._add_bias_unit(X, how='column')\n",
        "        z2 = w1.dot(a1.T)\n",
        "        a2 = self._sigmoid(z2)\n",
        "        a2 = self._add_bias_unit(a2, how='row')\n",
        "        z3 = w2.dot(a2)\n",
        "        a3 = self._sigmoid(z3)\n",
        "        return a1, z2, a2, z3, a3\n",
        "\n",
        "    def _L2_reg(self, lambda_, w1, w2):\n",
        "        \"\"\"Compute L2-regularization cost\"\"\"\n",
        "        return (lambda_/2.0) * (np.sum(w1[:, 1:] ** 2) + np.sum(w2[:, 1:] ** 2))\n",
        "\n",
        "    def _L1_reg(self, lambda_, w1, w2):\n",
        "        \"\"\"Compute L1-regularization cost\"\"\"\n",
        "        return (lambda_/2.0) * (np.abs(w1[:, 1:]).sum() + np.abs(w2[:, 1:]).sum())\n",
        "\n",
        "    def _get_cost(self, y_enc, output, w1, w2):\n",
        "        \"\"\"Compute cost function.\n",
        "\n",
        "        y_enc : array, shape = (n_labels, n_samples)\n",
        "          one-hot encoded class labels.\n",
        "\n",
        "        output : array, shape = [n_output_units, n_samples]\n",
        "          Activation of the output layer (feedforward)\n",
        "\n",
        "        w1 : array, shape = [n_hidden_units, n_features]\n",
        "          Weight matrix for input layer -> hidden layer.\n",
        "\n",
        "        w2 : array, shape = [n_output_units, n_hidden_units]\n",
        "          Weight matrix for hidden layer -> output layer.\n",
        "\n",
        "        Returns\n",
        "        ---------\n",
        "        cost : float\n",
        "          Regularized cost.\n",
        "\n",
        "        \"\"\"\n",
        "        term1 = -y_enc * (np.log(output))\n",
        "        term2 = (1 - y_enc) * np.log(1 - output)\n",
        "        cost = np.sum(term1 - term2)\n",
        "        L1_term = self._L1_reg(self.l1, w1, w2)\n",
        "        L2_term = self._L2_reg(self.l2, w1, w2)\n",
        "        cost = cost + L1_term + L2_term\n",
        "        return cost\n",
        "\n",
        "    def _get_gradient(self, a1, a2, a3, z2, y_enc, w1, w2):\n",
        "        \"\"\" Compute gradient step using backpropagation.\n",
        "\n",
        "        Parameters\n",
        "        ------------\n",
        "        a1 : array, shape = [n_samples, n_features+1]\n",
        "          Input values with bias unit.\n",
        "\n",
        "        a2 : array, shape = [n_hidden+1, n_samples]\n",
        "          Activation of hidden layer.\n",
        "\n",
        "        a3 : array, shape = [n_output_units, n_samples]\n",
        "          Activation of output layer.\n",
        "\n",
        "        z2 : array, shape = [n_hidden, n_samples]\n",
        "          Net input of hidden layer.\n",
        "\n",
        "        y_enc : array, shape = (n_labels, n_samples)\n",
        "          one-hot encoded class labels.\n",
        "\n",
        "        w1 : array, shape = [n_hidden_units, n_features]\n",
        "          Weight matrix for input layer -> hidden layer.\n",
        "\n",
        "        w2 : array, shape = [n_output_units, n_hidden_units]\n",
        "          Weight matrix for hidden layer -> output layer.\n",
        "\n",
        "        Returns\n",
        "        ---------\n",
        "\n",
        "        grad1 : array, shape = [n_hidden_units, n_features]\n",
        "          Gradient of the weight matrix w1.\n",
        "\n",
        "        grad2 : array, shape = [n_output_units, n_hidden_units]\n",
        "            Gradient of the weight matrix w2.\n",
        "\n",
        "        \"\"\"\n",
        "        # backpropagation\n",
        "        sigma3 = a3 - y_enc\n",
        "        z2 = self._add_bias_unit(z2, how='row')\n",
        "        sigma2 = w2.T.dot(sigma3) * self._sigmoid_gradient(z2)\n",
        "        sigma2 = sigma2[1:, :]\n",
        "        grad1 = sigma2.dot(a1)\n",
        "        grad2 = sigma3.dot(a2.T)\n",
        "\n",
        "        # regularize\n",
        "        grad1[:, 1:] += (w1[:, 1:] * (self.l1 + self.l2))\n",
        "        grad2[:, 1:] += (w2[:, 1:] * (self.l1 + self.l2))\n",
        "\n",
        "        return grad1, grad2\n",
        "\n",
        "    def predict(self, X):\n",
        "        \"\"\"Predict class labels\n",
        "\n",
        "        Parameters\n",
        "        -----------\n",
        "        X : array, shape = [n_samples, n_features]\n",
        "          Input layer with original features.\n",
        "\n",
        "        Returns:\n",
        "        ----------\n",
        "        y_pred : array, shape = [n_samples]\n",
        "          Predicted class labels.\n",
        "\n",
        "        \"\"\"\n",
        "        if len(X.shape) != 2:\n",
        "            raise AttributeError('X must be a [n_samples, n_features] array.\\n'\n",
        "                                 'Use X[:,None] for 1-feature classification,'\n",
        "                                 '\\nor X[[i]] for 1-sample classification')\n",
        "\n",
        "        a1, z2, a2, z3, a3 = self._feedforward(X, self.w1, self.w2)\n",
        "        y_pred = np.argmax(z3, axis=0)\n",
        "        return y_pred\n",
        "\n",
        "    # FUNCTION FOR FITTING MLP \n",
        "    \n",
        "    def fit(self, X, y, print_progress=False):\n",
        "        \"\"\" Learn weights from training data.\n",
        "\n",
        "        Parameters\n",
        "        -----------\n",
        "        X : array, shape = [n_samples, n_features]\n",
        "          Input layer with original features.\n",
        "\n",
        "        y : array, shape = [n_samples]\n",
        "          Target class labels.\n",
        "\n",
        "        print_progress : bool (default: False)\n",
        "          Prints progress as the number of epochs\n",
        "          to stderr.\n",
        "\n",
        "        Returns:\n",
        "        ----------\n",
        "        self\n",
        "\n",
        "        \"\"\"\n",
        "        self.cost_ = []\n",
        "        X_data, y_data = X.copy(), y.copy()\n",
        "        y_enc = self._encode_labels(y, self.n_output)\n",
        "\n",
        "        delta_w1_prev = np.zeros(self.w1.shape)\n",
        "        delta_w2_prev = np.zeros(self.w2.shape)\n",
        "\n",
        "        for i in range(self.epochs):\n",
        "            \n",
        "            # adaptive learning rate\n",
        "            self.eta /= (1 + self.decrease_const*i)\n",
        "\n",
        "            if print_progress:\n",
        "                sys.stderr.write('\\rEpoch: %d/%d' % (i+1, self.epochs))\n",
        "                sys.stderr.flush()\n",
        "\n",
        "            if self.shuffle:\n",
        "                idx = np.random.permutation(y_data.shape[0])\n",
        "                X_data, y_enc = X_data[idx], y_enc[:, idx]\n",
        "\n",
        "            mini = np.array_split(range(y_data.shape[0]), self.minibatches)\n",
        "            for idx in mini:\n",
        "\n",
        "                # feedforward\n",
        "                a1, z2, a2, z3, a3 = self._feedforward(X_data[idx], self.w1, self.w2)\n",
        "                cost = self._get_cost(y_enc=y_enc[:, idx],\n",
        "                                      output=a3,\n",
        "                                      w1=self.w1,\n",
        "                                      w2=self.w2)\n",
        "                self.cost_.append(cost)\n",
        "\n",
        "                # compute gradient via backpropagation\n",
        "                grad1, grad2 = self._get_gradient(a1=a1, a2=a2,\n",
        "                                                  a3=a3, z2=z2,\n",
        "                                                  y_enc=y_enc[:, idx],\n",
        "                                                  w1=self.w1,\n",
        "                                                  w2=self.w2)\n",
        "\n",
        "                delta_w1, delta_w2 = self.eta * grad1, self.eta * grad2\n",
        "                self.w1 -= (delta_w1 + (self.alpha * delta_w1_prev))\n",
        "                self.w2 -= (delta_w2 + (self.alpha * delta_w2_prev))\n",
        "                delta_w1_prev, delta_w2_prev = delta_w1, delta_w2\n",
        "\n",
        "        return self"
      ],
      "execution_count": 0,
      "outputs": []
    },
    {
      "cell_type": "code",
      "metadata": {
        "id": "-5Ghu6uQrOgS",
        "colab_type": "code",
        "colab": {}
      },
      "source": [
        "nn = NeuralNetMLP(n_output=10, \n",
        "                  n_features=X_train.shape[1], \n",
        "                  n_hidden=50, \n",
        "                  l2=0.1, \n",
        "                  l1=0.0, \n",
        "                  epochs=1000, \n",
        "                  eta=0.001,\n",
        "                  alpha=0.001,\n",
        "                  decrease_const=0.00001,\n",
        "                  minibatches=50, \n",
        "                  shuffle=True,\n",
        "                  random_state=1)"
      ],
      "execution_count": 0,
      "outputs": []
    },
    {
      "cell_type": "code",
      "metadata": {
        "id": "qOefPXAtrOgV",
        "colab_type": "code",
        "colab": {
          "base_uri": "https://localhost:8080/",
          "height": 35
        },
        "outputId": "569a11b9-910f-4b81-ed49-671edfca29a4"
      },
      "source": [
        "start = time.time()\n",
        "\n",
        "nn.fit(X_train, y_train, print_progress=True)\n",
        "\n",
        "end = time.time()\n",
        "final_time = end-start\n",
        "print(final_time)"
      ],
      "execution_count": 27,
      "outputs": [
        {
          "output_type": "stream",
          "text": [
            "Epoch: 1000/1000"
          ],
          "name": "stderr"
        },
        {
          "output_type": "stream",
          "text": [
            "1195.652493238449\n"
          ],
          "name": "stdout"
        }
      ]
    },
    {
      "cell_type": "code",
      "metadata": {
        "id": "cMTEt4HmrOgb",
        "colab_type": "code",
        "colab": {
          "base_uri": "https://localhost:8080/",
          "height": 297
        },
        "outputId": "b71317fc-f812-4c81-b6bc-e43a8c10d805"
      },
      "source": [
        "# ROUGH PLOT FOR EACH OF THE 50 BATCH RUNS\n",
        "\n",
        "plt.plot(range(len(nn.cost_)), nn.cost_)\n",
        "plt.ylim([0, 2000])\n",
        "plt.ylabel('Cost')\n",
        "plt.xlabel('Epochs * 50')\n",
        "plt.tight_layout()\n",
        "# plt.savefig('./figures/cost.png', dpi=300)\n",
        "plt.show()"
      ],
      "execution_count": 28,
      "outputs": [
        {
          "output_type": "display_data",
          "data": {
            "image/png": "[encoded data removed]",
            "text/plain": [
              "<Figure size 432x288 with 1 Axes>"
            ]
          },
          "metadata": {
            "tags": []
          }
        }
      ]
    },
    {
      "cell_type": "code",
      "metadata": {
        "id": "R9PecMM0rOgj",
        "colab_type": "code",
        "colab": {}
      },
      "source": [
        "batches = np.array_split(range(len(nn.cost_)), 1000)\n",
        "cost_ary = np.array(nn.cost_)\n",
        "cost_avgs = [np.mean(cost_ary[i]) for i in batches]"
      ],
      "execution_count": 0,
      "outputs": []
    },
    {
      "cell_type": "code",
      "metadata": {
        "id": "j_dc1VGzrOgr",
        "colab_type": "code",
        "colab": {
          "base_uri": "https://localhost:8080/",
          "height": 297
        },
        "outputId": "9283efde-66d2-4219-91cc-ea616f638b55"
      },
      "source": [
        "plt.plot(range(len(cost_avgs)), cost_avgs, color='red')\n",
        "plt.ylim([0, 2000])\n",
        "plt.ylabel('Cost')\n",
        "plt.xlabel('Epochs')\n",
        "plt.tight_layout()\n",
        "#plt.savefig('./figures/cost2.png', dpi=300)\n",
        "plt.show()"
      ],
      "execution_count": 30,
      "outputs": [
        {
          "output_type": "display_data",
          "data": {
            "image/png": "[encoded data removed]",
            "text/plain": [
              "<Figure size 432x288 with 1 Axes>"
            ]
          },
          "metadata": {
            "tags": []
          }
        }
      ]
    },
    {
      "cell_type": "code",
      "metadata": {
        "id": "oMXBV0EMrOgy",
        "colab_type": "code",
        "colab": {
          "base_uri": "https://localhost:8080/",
          "height": 35
        },
        "outputId": "9e48a62d-f367-4a9a-ce67-b3f3924a28c2"
      },
      "source": [
        "import sys\n",
        "\n",
        "y_train_pred = nn.predict(X_train)\n",
        "\n",
        "if sys.version_info < (3, 0):\n",
        "    acc = (np.sum(y_train == y_train_pred, axis=0)).astype('float') / X_train.shape[0]\n",
        "else:\n",
        "    acc = np.sum(y_train == y_train_pred, axis=0) / X_train.shape[0]\n",
        "\n",
        "print('Training accuracy: %.2f%%' % (acc * 100))"
      ],
      "execution_count": 31,
      "outputs": [
        {
          "output_type": "stream",
          "text": [
            "Training accuracy: 97.31%\n"
          ],
          "name": "stdout"
        }
      ]
    },
    {
      "cell_type": "code",
      "metadata": {
        "id": "UWEs_pItrOg6",
        "colab_type": "code",
        "colab": {
          "base_uri": "https://localhost:8080/",
          "height": 35
        },
        "outputId": "5a0078e9-ab15-4b9b-b5ec-8bbf73ed6491"
      },
      "source": [
        "y_test_pred = nn.predict(X_test)\n",
        "\n",
        "if sys.version_info < (3, 0):\n",
        "    acc = (np.sum(y_test == y_test_pred, axis=0)).astype('float') / X_test.shape[0]\n",
        "else:\n",
        "    acc = np.sum(y_test == y_test_pred, axis=0) / X_test.shape[0]\n",
        "\n",
        "print('Test accuracy: %.2f%%' % (acc * 100))"
      ],
      "execution_count": 32,
      "outputs": [
        {
          "output_type": "stream",
          "text": [
            "Test accuracy: 95.74%\n"
          ],
          "name": "stdout"
        }
      ]
    },
    {
      "cell_type": "code",
      "metadata": {
        "id": "D5eRB-PqrOhB",
        "colab_type": "code",
        "colab": {
          "base_uri": "https://localhost:8080/",
          "height": 297
        },
        "outputId": "def37011-205e-491c-dfa3-46fc9069b3be"
      },
      "source": [
        "miscl_img = X_test[y_test != y_test_pred][:25]\n",
        "correct_lab = y_test[y_test != y_test_pred][:25]\n",
        "miscl_lab= y_test_pred[y_test != y_test_pred][:25]\n",
        "\n",
        "fig, ax = plt.subplots(nrows=5, ncols=5, sharex=True, sharey=True,)\n",
        "ax = ax.flatten()\n",
        "for i in range(25):\n",
        "    img = miscl_img[i].reshape(28, 28)\n",
        "    ax[i].imshow(img, cmap='Greys', interpolation='nearest')\n",
        "    ax[i].set_title('%d) t: %d p: %d' % (i+1, correct_lab[i], miscl_lab[i]))\n",
        "\n",
        "ax[0].set_xticks([])\n",
        "ax[0].set_yticks([])\n",
        "plt.tight_layout()\n",
        "# plt.savefig('./figures/mnist_miscl.png', dpi=300)\n",
        "plt.show()"
      ],
      "execution_count": 33,
      "outputs": [
        {
          "output_type": "display_data",
          "data": {
            "image/png": "[encoded data removed]",
            "text/plain": [
              "<Figure size 432x288 with 25 Axes>"
            ]
          },
          "metadata": {
            "tags": []
          }
        }
      ]
    },
    {
      "cell_type": "code",
      "metadata": {
        "id": "vrAVMnNFrOhR",
        "colab_type": "code",
        "colab": {
          "base_uri": "https://localhost:8080/",
          "height": 297
        },
        "outputId": "c27ac6f8-2f1c-40dd-8975-092b0d599447"
      },
      "source": [
        "miscl_img = X_test[y_test != y_test_pred][:25]\n",
        "correct_lab = y_test[y_test != y_test_pred][:25]\n",
        "miscl_lab= y_test_pred[y_test != y_test_pred][:25]\n",
        "\n",
        "fig, ax = plt.subplots(nrows=5, ncols=5, sharex=True, sharey=True,)\n",
        "ax = ax.flatten()\n",
        "for i in range(25):\n",
        "    img = miscl_img[i].reshape(28, 28)\n",
        "    ax[i].imshow(img, cmap='Greys', interpolation='nearest')\n",
        "    ax[i].set_title('%d) t: %d p: %d' % (i+1, correct_lab[i], miscl_lab[i]))\n",
        "\n",
        "ax[0].set_xticks([])\n",
        "ax[0].set_yticks([])\n",
        "plt.tight_layout()\n",
        "# plt.savefig('./figures/mnist_miscl.png', dpi=300)\n",
        "plt.show()"
      ],
      "execution_count": 34,
      "outputs": [
        {
          "output_type": "display_data",
          "data": {
            "image/png": "[encoded data removed]",
            "text/plain": [
              "<Figure size 432x288 with 25 Axes>"
            ]
          },
          "metadata": {
            "tags": []
          }
        }
      ]
    },
    {
      "cell_type": "code",
      "metadata": {
        "id": "FXkZvQwvrOhZ",
        "colab_type": "code",
        "colab": {}
      },
      "source": [
        "# GRADIENT VERSION\n",
        "\n",
        "class MLPGradientCheck(object):\n",
        "    \"\"\" Feedforward neural network / Multi-layer perceptron classifier.\n",
        "\n",
        "    Parameters\n",
        "    ------------\n",
        "    n_output : int\n",
        "      Number of output units, should be equal to the\n",
        "      number of unique class labels.\n",
        "\n",
        "    n_features : int\n",
        "      Number of features (dimensions) in the target dataset.\n",
        "      Should be equal to the number of columns in the X array.\n",
        "\n",
        "    n_hidden : int (default: 30)\n",
        "      Number of hidden units.\n",
        "\n",
        "    l1 : float (default: 0.0)\n",
        "      Lambda value for L1-regularization.\n",
        "      No regularization if l1=0.0 (default)\n",
        "\n",
        "    l2 : float (default: 0.0)\n",
        "      Lambda value for L2-regularization.\n",
        "      No regularization if l2=0.0 (default)\n",
        "\n",
        "    epochs : int (default: 500)\n",
        "      Number of passes over the training set.\n",
        "\n",
        "    eta : float (default: 0.001)\n",
        "      Learning rate.\n",
        "\n",
        "    alpha : float (default: 0.0)\n",
        "      Momentum constant. Factor multiplied with the\n",
        "      gradient of the previous epoch t-1 to improve\n",
        "      learning speed\n",
        "      w(t) := w(t) - (grad(t) + alpha*grad(t-1))\n",
        "    \n",
        "    decrease_const : float (default: 0.0)\n",
        "      Decrease constant. Shrinks the learning rate\n",
        "      after each epoch via eta / (1 + epoch*decrease_const)\n",
        "\n",
        "    shuffle : bool (default: False)\n",
        "      Shuffles training data every epoch if True to prevent circles.\n",
        "\n",
        "    minibatches : int (default: 1)\n",
        "      Divides training data into k minibatches for efficiency.\n",
        "      Normal gradient descent learning if k=1 (default).\n",
        "\n",
        "    random_state : int (default: None)\n",
        "      Set random state for shuffling and initializing the weights.\n",
        "\n",
        "    Attributes\n",
        "    -----------\n",
        "    cost_ : list\n",
        "      Sum of squared errors after each epoch.\n",
        "\n",
        "    \"\"\"\n",
        "    def __init__(self, n_output, n_features, n_hidden=30,\n",
        "                 l1=0.0, l2=0.0, epochs=500, eta=0.001, \n",
        "                 alpha=0.0, decrease_const=0.0, shuffle=True, \n",
        "                 minibatches=1, random_state=None):\n",
        "\n",
        "        np.random.seed(random_state)\n",
        "        self.n_output = n_output\n",
        "        self.n_features = n_features\n",
        "        self.n_hidden = n_hidden\n",
        "        self.w1, self.w2 = self._initialize_weights()\n",
        "        self.l1 = l1\n",
        "        self.l2 = l2\n",
        "        self.epochs = epochs\n",
        "        self.eta = eta\n",
        "        self.alpha = alpha\n",
        "        self.decrease_const = decrease_const\n",
        "        self.shuffle = shuffle\n",
        "        self.minibatches = minibatches\n",
        "\n",
        "    def _encode_labels(self, y, k):\n",
        "        \"\"\"Encode labels into one-hot representation\n",
        "\n",
        "        Parameters\n",
        "        ------------\n",
        "        y : array, shape = [n_samples]\n",
        "            Target values.\n",
        "\n",
        "        Returns\n",
        "        -----------\n",
        "        onehot : array, shape = (n_labels, n_samples)\n",
        "\n",
        "        \"\"\"\n",
        "        onehot = np.zeros((k, y.shape[0]))\n",
        "        for idx, val in enumerate(y):\n",
        "            onehot[val, idx] = 1.0\n",
        "        return onehot\n",
        "\n",
        "    def _initialize_weights(self):\n",
        "        \"\"\"Initialize weights with small random numbers.\"\"\"\n",
        "        w1 = np.random.uniform(-1.0, 1.0, size=self.n_hidden*(self.n_features + 1))\n",
        "        w1 = w1.reshape(self.n_hidden, self.n_features + 1)\n",
        "        w2 = np.random.uniform(-1.0, 1.0, size=self.n_output*(self.n_hidden + 1))\n",
        "        w2 = w2.reshape(self.n_output, self.n_hidden + 1)\n",
        "        return w1, w2\n",
        "\n",
        "    def _sigmoid(self, z):\n",
        "        \"\"\"Compute logistic function (sigmoid)\n",
        "\n",
        "        Uses scipy.special.expit to avoid overflow\n",
        "        error for very small input values z.\n",
        "\n",
        "        \"\"\"\n",
        "        # return 1.0 / (1.0 + np.exp(-z))\n",
        "        return expit(z)\n",
        "\n",
        "    def _sigmoid_gradient(self, z):\n",
        "        \"\"\"Compute gradient of the logistic function\"\"\"\n",
        "        sg = self._sigmoid(z)\n",
        "        return sg * (1 - sg)\n",
        "\n",
        "    def _add_bias_unit(self, X, how='column'):\n",
        "        \"\"\"Add bias unit (column or row of 1s) to array at index 0\"\"\"\n",
        "        if how == 'column':\n",
        "            X_new = np.ones((X.shape[0], X.shape[1]+1))\n",
        "            X_new[:, 1:] = X\n",
        "        elif how == 'row':\n",
        "            X_new = np.ones((X.shape[0]+1, X.shape[1]))\n",
        "            X_new[1:, :] = X\n",
        "        else:\n",
        "            raise AttributeError('`how` must be `column` or `row`')\n",
        "        return X_new\n",
        "\n",
        "    def _feedforward(self, X, w1, w2):\n",
        "        \"\"\"Compute feedforward step\n",
        "\n",
        "        Parameters\n",
        "        -----------\n",
        "        X : array, shape = [n_samples, n_features]\n",
        "          Input layer with original features.\n",
        "\n",
        "        w1 : array, shape = [n_hidden_units, n_features]\n",
        "          Weight matrix for input layer -> hidden layer.\n",
        "\n",
        "        w2 : array, shape = [n_output_units, n_hidden_units]\n",
        "          Weight matrix for hidden layer -> output layer.\n",
        "\n",
        "        Returns\n",
        "        ----------\n",
        "        a1 : array, shape = [n_samples, n_features+1]\n",
        "          Input values with bias unit.\n",
        "\n",
        "        z2 : array, shape = [n_hidden, n_samples]\n",
        "          Net input of hidden layer.\n",
        "\n",
        "        a2 : array, shape = [n_hidden+1, n_samples]\n",
        "          Activation of hidden layer.\n",
        "\n",
        "        z3 : array, shape = [n_output_units, n_samples]\n",
        "          Net input of output layer.\n",
        "\n",
        "        a3 : array, shape = [n_output_units, n_samples]\n",
        "          Activation of output layer.\n",
        "\n",
        "        \"\"\"\n",
        "        a1 = self._add_bias_unit(X, how='column')\n",
        "        z2 = w1.dot(a1.T)\n",
        "        a2 = self._sigmoid(z2)\n",
        "        a2 = self._add_bias_unit(a2, how='row')\n",
        "        z3 = w2.dot(a2)\n",
        "        a3 = self._sigmoid(z3)\n",
        "        return a1, z2, a2, z3, a3\n",
        "\n",
        "    def _L2_reg(self, lambda_, w1, w2):\n",
        "        \"\"\"Compute L2-regularization cost\"\"\"\n",
        "        return (lambda_/2.0) * (np.sum(w1[:, 1:] ** 2) + np.sum(w2[:, 1:] ** 2))\n",
        "\n",
        "    def _L1_reg(self, lambda_, w1, w2):\n",
        "        \"\"\"Compute L1-regularization cost\"\"\"\n",
        "        return (lambda_/2.0) * (np.abs(w1[:, 1:]).sum() + np.abs(w2[:, 1:]).sum())\n",
        "\n",
        "    def _get_cost(self, y_enc, output, w1, w2):\n",
        "        \"\"\"Compute cost function.\n",
        "\n",
        "        y_enc : array, shape = (n_labels, n_samples)\n",
        "          one-hot encoded class labels.\n",
        "\n",
        "        output : array, shape = [n_output_units, n_samples]\n",
        "          Activation of the output layer (feedforward)\n",
        "\n",
        "        w1 : array, shape = [n_hidden_units, n_features]\n",
        "          Weight matrix for input layer -> hidden layer.\n",
        "\n",
        "        w2 : array, shape = [n_output_units, n_hidden_units]\n",
        "          Weight matrix for hidden layer -> output layer.\n",
        "\n",
        "        Returns\n",
        "        ---------\n",
        "        cost : float\n",
        "          Regularized cost.\n",
        "\n",
        "        \"\"\"\n",
        "        term1 = -y_enc * (np.log(output))\n",
        "        term2 = (1 - y_enc) * np.log(1 - output)\n",
        "        cost = np.sum(term1 - term2)\n",
        "        L1_term = self._L1_reg(self.l1, w1, w2)\n",
        "        L2_term = self._L2_reg(self.l2, w1, w2)\n",
        "        cost = cost + L1_term + L2_term\n",
        "        return cost\n",
        "\n",
        "    def _get_gradient(self, a1, a2, a3, z2, y_enc, w1, w2):\n",
        "        \"\"\" Compute gradient step using backpropagation.\n",
        "\n",
        "        Parameters\n",
        "        ------------\n",
        "        a1 : array, shape = [n_samples, n_features+1]\n",
        "          Input values with bias unit.\n",
        "\n",
        "        a2 : array, shape = [n_hidden+1, n_samples]\n",
        "          Activation of hidden layer.\n",
        "\n",
        "        a3 : array, shape = [n_output_units, n_samples]\n",
        "          Activation of output layer.\n",
        "\n",
        "        z2 : array, shape = [n_hidden, n_samples]\n",
        "          Net input of hidden layer.\n",
        "\n",
        "        y_enc : array, shape = (n_labels, n_samples)\n",
        "          one-hot encoded class labels.\n",
        "\n",
        "        w1 : array, shape = [n_hidden_units, n_features]\n",
        "          Weight matrix for input layer -> hidden layer.\n",
        "\n",
        "        w2 : array, shape = [n_output_units, n_hidden_units]\n",
        "          Weight matrix for hidden layer -> output layer.\n",
        "\n",
        "        Returns\n",
        "        ---------\n",
        "\n",
        "        grad1 : array, shape = [n_hidden_units, n_features]\n",
        "          Gradient of the weight matrix w1.\n",
        "\n",
        "        grad2 : array, shape = [n_output_units, n_hidden_units]\n",
        "            Gradient of the weight matrix w2.\n",
        "\n",
        "        \"\"\"\n",
        "        # backpropagation\n",
        "        sigma3 = a3 - y_enc\n",
        "        z2 = self._add_bias_unit(z2, how='row')\n",
        "        sigma2 = w2.T.dot(sigma3) * self._sigmoid_gradient(z2)\n",
        "        sigma2 = sigma2[1:, :]\n",
        "        grad1 = sigma2.dot(a1)\n",
        "        grad2 = sigma3.dot(a2.T)\n",
        "\n",
        "        # regularize\n",
        "        grad1[:, 1:] += (w1[:, 1:] * (self.l1 + self.l2))\n",
        "        grad2[:, 1:] += (w2[:, 1:] * (self.l1 + self.l2))\n",
        "\n",
        "        return grad1, grad2\n",
        "\n",
        "    def _gradient_checking(self, X, y_enc, w1, w2, epsilon, grad1, grad2):\n",
        "        \"\"\" Apply gradient checking (for debugging only)\n",
        "\n",
        "        Returns\n",
        "        ---------\n",
        "        relative_error : float\n",
        "          Relative error between the numerically\n",
        "          approximated gradients and the backpropagated gradients.\n",
        "\n",
        "        \"\"\"\n",
        "        num_grad1 = np.zeros(np.shape(w1))\n",
        "        epsilon_ary1 = np.zeros(np.shape(w1))\n",
        "        for i in range(w1.shape[0]):\n",
        "            for j in range(w1.shape[1]):\n",
        "                epsilon_ary1[i, j] = epsilon\n",
        "                a1, z2, a2, z3, a3 = self._feedforward(X, w1 - epsilon_ary1, w2)\n",
        "                cost1 = self._get_cost(y_enc, a3, w1-epsilon_ary1, w2)\n",
        "                a1, z2, a2, z3, a3 = self._feedforward(X, w1 + epsilon_ary1, w2)\n",
        "                cost2 = self._get_cost(y_enc, a3, w1 + epsilon_ary1, w2)\n",
        "                num_grad1[i, j] = (cost2 - cost1) / (2 * epsilon)\n",
        "                epsilon_ary1[i, j] = 0\n",
        "\n",
        "        num_grad2 = np.zeros(np.shape(w2))\n",
        "        epsilon_ary2 = np.zeros(np.shape(w2))\n",
        "        for i in range(w2.shape[0]):\n",
        "            for j in range(w2.shape[1]):\n",
        "                epsilon_ary2[i, j] = epsilon\n",
        "                a1, z2, a2, z3, a3 = self._feedforward(X, w1, w2 - epsilon_ary2)\n",
        "                cost1 = self._get_cost(y_enc, a3, w1, w2 - epsilon_ary2)\n",
        "                a1, z2, a2, z3, a3 = self._feedforward(X, w1, w2 + epsilon_ary2)\n",
        "                cost2 = self._get_cost(y_enc, a3, w1, w2 + epsilon_ary2)\n",
        "                num_grad2[i, j] = (cost2 - cost1) / (2 * epsilon)\n",
        "                epsilon_ary2[i, j] = 0\n",
        "\n",
        "        num_grad = np.hstack((num_grad1.flatten(), num_grad2.flatten()))\n",
        "        grad = np.hstack((grad1.flatten(), grad2.flatten()))\n",
        "        norm1 = np.linalg.norm(num_grad - grad)\n",
        "        norm2 = np.linalg.norm(num_grad)\n",
        "        norm3 = np.linalg.norm(grad)\n",
        "        relative_error = norm1 / (norm2 + norm3)\n",
        "        return relative_error\n",
        "\n",
        "    def predict(self, X):\n",
        "        \"\"\"Predict class labels\n",
        "\n",
        "        Parameters\n",
        "        -----------\n",
        "        X : array, shape = [n_samples, n_features]\n",
        "          Input layer with original features.\n",
        "\n",
        "        Returns:\n",
        "        ----------\n",
        "        y_pred : array, shape = [n_samples]\n",
        "          Predicted class labels.\n",
        "\n",
        "        \"\"\"\n",
        "        if len(X.shape) != 2:\n",
        "            raise AttributeError('X must be a [n_samples, n_features] array.\\n'\n",
        "                                 'Use X[:,None] for 1-feature classification,'\n",
        "                                 '\\nor X[[i]] for 1-sample classification')\n",
        "\n",
        "        a1, z2, a2, z3, a3 = self._feedforward(X, self.w1, self.w2)\n",
        "        y_pred = np.argmax(z3, axis=0)\n",
        "        return y_pred\n",
        "\n",
        "    def fit(self, X, y, print_progress=False):\n",
        "        \"\"\" Learn weights from training data.\n",
        "\n",
        "        Parameters\n",
        "        -----------\n",
        "        X : array, shape = [n_samples, n_features]\n",
        "          Input layer with original features.\n",
        "\n",
        "        y : array, shape = [n_samples]\n",
        "          Target class labels.\n",
        "\n",
        "        print_progress : bool (default: False)\n",
        "          Prints progress as the number of epochs\n",
        "          to stderr.\n",
        "\n",
        "        Returns:\n",
        "        ----------\n",
        "        self\n",
        "\n",
        "        \"\"\"\n",
        "        self.cost_ = []\n",
        "        X_data, y_data = X.copy(), y.copy()\n",
        "        y_enc = self._encode_labels(y, self.n_output)\n",
        "\n",
        "        delta_w1_prev = np.zeros(self.w1.shape)\n",
        "        delta_w2_prev = np.zeros(self.w2.shape)\n",
        "\n",
        "        for i in range(self.epochs):\n",
        "            \n",
        "            # adaptive learning rate\n",
        "            self.eta /= (1 + self.decrease_const*i)\n",
        "\n",
        "            if print_progress:\n",
        "                sys.stderr.write('\\rEpoch: %d/%d' % (i+1, self.epochs))\n",
        "                sys.stderr.flush()\n",
        "\n",
        "            if self.shuffle:\n",
        "                idx = np.random.permutation(y_data.shape[0])\n",
        "                X_data, y_enc = X_data[idx], y_enc[idx]\n",
        "\n",
        "            mini = np.array_split(range(y_data.shape[0]), self.minibatches)\n",
        "            for idx in mini:\n",
        "\n",
        "                # feedforward\n",
        "                a1, z2, a2, z3, a3 = self._feedforward(X[idx], self.w1, self.w2)\n",
        "                cost = self._get_cost(y_enc=y_enc[:, idx],\n",
        "                                      output=a3,\n",
        "                                      w1=self.w1,\n",
        "                                      w2=self.w2)\n",
        "                self.cost_.append(cost)\n",
        "\n",
        "                # compute gradient via backpropagation\n",
        "                grad1, grad2 = self._get_gradient(a1=a1, a2=a2,\n",
        "                                                  a3=a3, z2=z2,\n",
        "                                                  y_enc=y_enc[:, idx],\n",
        "                                                  w1=self.w1,\n",
        "                                                  w2=self.w2)\n",
        "                \n",
        "                ## start gradient checking\n",
        "                grad_diff = self._gradient_checking(X=X_data[idx], y_enc=y_enc[:, idx],\n",
        "                                                  w1=self.w1, w2=self.w2,\n",
        "                                                  epsilon=1e-5,\n",
        "                                                  grad1=grad1, grad2=grad2)\n",
        "                \n",
        "                if grad_diff <= 1e-7:\n",
        "                    print('Ok: %s' % grad_diff)\n",
        "                elif grad_diff <= 1e-4:\n",
        "                    print('Warning: %s' % grad_diff)\n",
        "                else:\n",
        "                    print('PROBLEM: %s' % grad_diff)\n",
        "\n",
        "                # update weights; [alpha * delta_w_prev] for momentum learning\n",
        "                delta_w1, delta_w2 = self.eta * grad1, self.eta * grad2\n",
        "                self.w1 -= (delta_w1 + (self.alpha * delta_w1_prev))\n",
        "                self.w2 -= (delta_w2 + (self.alpha * delta_w2_prev))\n",
        "                delta_w1_prev, delta_w2_prev = delta_w1, delta_w2\n",
        "\n",
        "        return self"
      ],
      "execution_count": 0,
      "outputs": []
    },
    {
      "cell_type": "code",
      "metadata": {
        "id": "BPoYjtedrOhd",
        "colab_type": "code",
        "colab": {}
      },
      "source": [
        "nn_check = MLPGradientCheck(n_output=10, \n",
        "                            n_features=X_train.shape[1], \n",
        "                            n_hidden=10, \n",
        "                            l2=0.0, \n",
        "                            l1=0.0, \n",
        "                            epochs=100, \n",
        "                            eta=0.001,\n",
        "                            alpha=0.0,\n",
        "                            decrease_const=0.0,\n",
        "                            minibatches=1, \n",
        "                            shuffle=False,\n",
        "                            random_state=1)"
      ],
      "execution_count": 0,
      "outputs": []
    },
    {
      "cell_type": "code",
      "metadata": {
        "id": "4wf0wEZBrOhj",
        "colab_type": "code",
        "colab": {}
      },
      "source": [
        "#nn_check.fit(X_train[:5], y_train[:5], print_progress=FALSE)"
      ],
      "execution_count": 0,
      "outputs": []
    },
    {
      "cell_type": "code",
      "metadata": {
        "id": "RkdVf6jbrOhm",
        "colab_type": "code",
        "colab": {
          "base_uri": "https://localhost:8080/",
          "height": 35
        },
        "outputId": "65fccac1-8e86-4fde-c66d-340e521927e0"
      },
      "source": [
        "nn_check.fit(X_train, y_train, print_progress=True)"
      ],
      "execution_count": 0,
      "outputs": [
        {
          "output_type": "stream",
          "text": [
            "Epoch: 2/100"
          ],
          "name": "stderr"
        },
        {
          "output_type": "stream",
          "text": [
            "Ok: 1.631061161008727e-08\n"
          ],
          "name": "stdout"
        }
      ]
    },
    {
      "cell_type": "code",
      "metadata": {
        "id": "NRHIBWI6rOht",
        "colab_type": "code",
        "colab": {},
        "outputId": "352e8f45-28b9-42ab-c35e-7b5e8a0f0613"
      },
      "source": [
        "# ACCURACY WITH GRADIENT CHECK\n",
        "\n",
        "y_test_pred = nn_check.predict(X_test)\n",
        "\n",
        "if sys.version_info < (3, 0):\n",
        "    acc = (np.sum(y_test == y_test_pred, axis=0)).astype('float') / X_test.shape[0]\n",
        "else:\n",
        "    acc = np.sum(y_test == y_test_pred, axis=0) / X_test.shape[0]\n",
        "\n",
        "print('Test accuracy: %.2f%%' % (acc * 100))"
      ],
      "execution_count": 0,
      "outputs": [
        {
          "output_type": "stream",
          "text": [
            "Test accuracy: 8.55%\n"
          ],
          "name": "stdout"
        }
      ]
    },
    {
      "cell_type": "code",
      "metadata": {
        "id": "oiaWx751rOhw",
        "colab_type": "code",
        "colab": {}
      },
      "source": [
        ""
      ],
      "execution_count": 0,
      "outputs": []
    }
  ]
}