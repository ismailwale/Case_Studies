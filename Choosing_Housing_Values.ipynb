{
  "nbformat": 4,
  "nbformat_minor": 0,
  "metadata": {
    "colab": {
      "name": "Choosing-Housing-Values.ipynb",
      "version": "0.3.2",
      "provenance": [],
      "include_colab_link": true
    },
    "kernelspec": {
      "name": "python3",
      "display_name": "Python 3"
    }
  },
  "cells": [
    {
      "cell_type": "markdown",
      "metadata": {
        "id": "view-in-github",
        "colab_type": "text"
      },
      "source": [
        "<a href=\"https://colab.research.google.com/github/toraaglobal/CaseStudies/blob/master/Choosing_Housing_Values.ipynb\" target=\"_parent\"><img src=\"https://colab.research.google.com/assets/colab-badge.svg\" alt=\"Open In Colab\"/></a>"
      ]
    },
    {
      "cell_type": "code",
      "metadata": {
        "id": "CSu87eqvd0Fm",
        "colab_type": "code",
        "colab": {}
      },
      "source": [
        "# CHOOSING HOUSING VALUES\n",
        "# BASED ON MILLER (2015)\n",
        "\n",
        "# import packages for analysis and modeling\n",
        "import pandas as pd  # data frame operations\n",
        "from pandas.plotting import scatter_matrix  # scatter plot matrix\n",
        "from pandas import Series\n",
        "import numpy as np  # arrays and math functions\n",
        "from scipy.stats import uniform  # for training-and-test split\n",
        "import statsmodels.api as sm  # statistical models (including regression)\n",
        "import statsmodels.formula.api as smf  # R-like model specification\n",
        "from sklearn.tree import DecisionTreeRegressor  # machine learning tree\n",
        "from sklearn.ensemble import RandomForestRegressor # ensemble method\n",
        "from matplotlib import pyplot\n",
        "import seaborn as sns\n",
        "\n",
        "%matplotlib inline\n"
      ],
      "execution_count": 0,
      "outputs": []
    },
    {
      "cell_type": "code",
      "metadata": {
        "id": "JHzl_WHreKl-",
        "colab_type": "code",
        "colab": {
          "base_uri": "https://localhost:8080/",
          "height": 35
        },
        "outputId": "c26b023e-a46f-498e-d148-1f713f215bd3"
      },
      "source": [
        "#Mount the gdrive\n",
        "import os\n",
        "from google.colab import drive\n",
        "drive.mount('/content/drive')\n",
        "\n",
        "\n",
        "#change directry to the gdrive\n",
        "\n",
        "os.chdir('./drive/My Drive/Colab Notebooks/data')"
      ],
      "execution_count": 3,
      "outputs": [
        {
          "output_type": "stream",
          "text": [
            "Drive already mounted at /content/drive; to attempt to forcibly remount, call drive.mount(\"/content/drive\", force_remount=True).\n"
          ],
          "name": "stdout"
        }
      ]
    },
    {
      "cell_type": "code",
      "metadata": {
        "id": "VeC34LnLe1d7",
        "colab_type": "code",
        "colab": {
          "base_uri": "https://localhost:8080/",
          "height": 337
        },
        "outputId": "7bbf870e-5af0-4508-ef18-121a182e585b"
      },
      "source": [
        "# read in the housing data with white-space delimiters\n",
        "prelim_houses = pd.read_table('./houses_data.txt', header = None,delim_whitespace = True, skipinitialspace = True,names = ['value', 'income', 'age', 'rooms', 'bedrooms','pop', 'hh', 'latitude', 'longitude'])\n",
        "\n",
        "prelim_houses['idx'] = range(len(prelim_houses))  # for use as index\n",
        "houses = prelim_houses.set_index(['idx']) \n",
        "     \n",
        "print(houses.shape)  # check the structure of the data frame\n",
        "print(houses.head())"
      ],
      "execution_count": 5,
      "outputs": [
        {
          "output_type": "stream",
          "text": [
            "/usr/local/lib/python3.6/dist-packages/ipykernel_launcher.py:1: FutureWarning: read_table is deprecated, use read_csv instead, passing sep='\\t'.\n",
            "  \"\"\"Entry point for launching an IPython kernel.\n"
          ],
          "name": "stderr"
        },
        {
          "output_type": "stream",
          "text": [
            "(20640, 9)\n",
            "        value  income   age   rooms  bedrooms     pop      hh  latitude  \\\n",
            "idx                                                                       \n",
            "0    452600.0  8.3252  41.0   880.0     129.0   322.0   126.0     37.88   \n",
            "1    358500.0  8.3014  21.0  7099.0    1106.0  2401.0  1138.0     37.86   \n",
            "2    352100.0  7.2574  52.0  1467.0     190.0   496.0   177.0     37.85   \n",
            "3    341300.0  5.6431  52.0  1274.0     235.0   558.0   219.0     37.85   \n",
            "4    342200.0  3.8462  52.0  1627.0     280.0   565.0   259.0     37.85   \n",
            "\n",
            "     longitude  \n",
            "idx             \n",
            "0      -122.23  \n",
            "1      -122.22  \n",
            "2      -122.24  \n",
            "3      -122.25  \n",
            "4      -122.25  \n"
          ],
          "name": "stdout"
        }
      ]
    },
    {
      "cell_type": "code",
      "metadata": {
        "id": "bggmFG_0fJno",
        "colab_type": "code",
        "colab": {
          "base_uri": "https://localhost:8080/",
          "height": 390
        },
        "outputId": "aa38c2c2-bf34-4bc2-c1d5-63680a18a245"
      },
      "source": [
        "# compute descriptive statistics for original variables\n",
        "print(houses.describe().T)\n"
      ],
      "execution_count": 6,
      "outputs": [
        {
          "output_type": "stream",
          "text": [
            "             count           mean            std         min          25%  \\\n",
            "value      20640.0  206855.816909  115395.615874  14999.0000  119600.0000   \n",
            "income     20640.0       3.870671       1.899822      0.4999       2.5634   \n",
            "age        20640.0      28.639486      12.585558      1.0000      18.0000   \n",
            "rooms      20640.0    2635.763081    2181.615252      2.0000    1447.7500   \n",
            "bedrooms   20640.0     537.898014     421.247906      1.0000     295.0000   \n",
            "pop        20640.0    1425.476744    1132.462122      3.0000     787.0000   \n",
            "hh         20640.0     499.539680     382.329753      1.0000     280.0000   \n",
            "latitude   20640.0      35.631861       2.135952     32.5400      33.9300   \n",
            "longitude  20640.0    -119.569704       2.003532   -124.3500    -121.8000   \n",
            "\n",
            "                   50%           75%          max  \n",
            "value      179700.0000  264725.00000  500001.0000  \n",
            "income          3.5348       4.74325      15.0001  \n",
            "age            29.0000      37.00000      52.0000  \n",
            "rooms        2127.0000    3148.00000   39320.0000  \n",
            "bedrooms      435.0000     647.00000    6445.0000  \n",
            "pop          1166.0000    1725.00000   35682.0000  \n",
            "hh            409.0000     605.00000    6082.0000  \n",
            "latitude       34.2600      37.71000      41.9500  \n",
            "longitude    -118.4900    -118.01000    -114.3100  \n"
          ],
          "name": "stdout"
        }
      ]
    },
    {
      "cell_type": "code",
      "metadata": {
        "id": "cU3hljoNfask",
        "colab_type": "code",
        "colab": {}
      },
      "source": [
        "# computed variables for linear model used by Pace and Barry (1997)\n",
        "houses['log_value'] = np.log(houses['value'])\n",
        "houses['income_squared'] = np.power(houses['income'], 2) \n",
        "houses['income_cubed'] = np.power(houses['income'], 3) \n",
        "houses['log_age'] = np.log(houses['age'])   \n",
        "houses['log_pc_rooms'] = np.log(np.divide(houses['rooms'], houses['pop']))       \n",
        "houses['log_pc_bedrooms'] = \\\n",
        "    np.log(np.divide(houses['bedrooms'], houses['pop']))                   \n",
        "houses['log_pop_hh'] = np.divide(houses['pop'], houses['hh'])           \n",
        "houses['log_hh'] = np.log(houses['hh']) "
      ],
      "execution_count": 0,
      "outputs": []
    },
    {
      "cell_type": "code",
      "metadata": {
        "id": "XTOI0Evafvk8",
        "colab_type": "code",
        "colab": {}
      },
      "source": [
        "# structure of the Pace and Barry (1997) model for baseline for comparisons\n",
        "\n",
        "pace_barry_model = 'log_value ~ income + income_squared + income_cubed + log_age + log_pc_rooms + log_pc_bedrooms + log_pop_hh + log_hh'"
      ],
      "execution_count": 0,
      "outputs": []
    },
    {
      "cell_type": "code",
      "metadata": {
        "id": "9C8jDrtYf3k3",
        "colab_type": "code",
        "colab": {}
      },
      "source": [
        "# for comparison lets look at a simple model with the original variables\n",
        "simple_model = 'log_value ~ income + age + rooms + bedrooms +  pop + hh' "
      ],
      "execution_count": 0,
      "outputs": []
    },
    {
      "cell_type": "code",
      "metadata": {
        "id": "R-Fp0Ru4gDF0",
        "colab_type": "code",
        "colab": {}
      },
      "source": [
        "# original variables plus variables that add value for trees \n",
        "# that is... variables that are not simple monotonic transformations\n",
        "# of the original explanatory variables\n",
        "\n",
        "full_model = 'log_value ~ income + age + rooms + bedrooms + pop + hh + log_pc_rooms + log_pc_bedrooms + log_pop_hh'  \n",
        "  "
      ],
      "execution_count": 0,
      "outputs": []
    },
    {
      "cell_type": "code",
      "metadata": {
        "id": "33p-Y4X_gMgN",
        "colab_type": "code",
        "colab": {
          "base_uri": "https://localhost:8080/",
          "height": 444
        },
        "outputId": "8daa2785-61f3-4e2c-c145-ff70e7819029"
      },
      "source": [
        "# define the bounding box for selecting the area\n",
        "# here we are selecting the San Diego region\n",
        "BB_TOP = 33\n",
        "BB_BOTTOM = 32\n",
        "BB_RIGHT = -116.75\n",
        "BB_LEFT = -125\n",
        "\n",
        "houses_selected = houses[houses['latitude'] < BB_TOP]\n",
        "houses_selected = houses_selected[houses_selected['longitude'] < BB_RIGHT]\n",
        "houses_selected = houses_selected[houses_selected['latitude'] > BB_BOTTOM]\n",
        "houses_selected = houses_selected[houses_selected['longitude'] > BB_LEFT]\n",
        "\n",
        "# examine structure of selected block groups\n",
        "print(houses_selected.shape)\n",
        "print(houses_selected.head())"
      ],
      "execution_count": 12,
      "outputs": [
        {
          "output_type": "stream",
          "text": [
            "(1206, 17)\n",
            "          value  income   age   rooms  bedrooms    pop     hh  latitude  \\\n",
            "idx                                                                       \n",
            "14005  441700.0  4.7396  52.0  2023.0     301.0  649.0  285.0     32.76   \n",
            "14006  408500.0  5.3920  52.0  1539.0     212.0  535.0  224.0     32.75   \n",
            "14007  459600.0  8.6030  52.0  1504.0     208.0  518.0  196.0     32.75   \n",
            "14008  500001.0  8.1548  52.0  1495.0     230.0  459.0  190.0     32.75   \n",
            "14009  411600.0  6.1309  52.0  1388.0     213.0  513.0  211.0     32.75   \n",
            "\n",
            "       longitude  log_value  income_squared  income_cubed   log_age  \\\n",
            "idx                                                                   \n",
            "14005    -117.18  12.998386       22.463808    106.469465  3.951244   \n",
            "14006    -117.18  12.920247       29.073664    156.765196  3.951244   \n",
            "14007    -117.18  13.038112       74.011609    636.721872  3.951244   \n",
            "14008    -117.19  13.122365       66.500763    542.300422  3.951244   \n",
            "14009    -117.19  12.927807       37.587935    230.447870  3.951244   \n",
            "\n",
            "       log_pc_rooms  log_pc_bedrooms  log_pop_hh    log_hh  \n",
            "idx                                                         \n",
            "14005      1.136904        -0.768322    2.277193  5.652489  \n",
            "14006      1.056621        -0.925680    2.388393  5.411646  \n",
            "14007      1.065908        -0.912437    2.642857  5.278115  \n",
            "14008      1.180831        -0.690971    2.415789  5.247024  \n",
            "14009      0.995343        -0.878984    2.431280  5.351858  \n"
          ],
          "name": "stdout"
        }
      ]
    },
    {
      "cell_type": "code",
      "metadata": {
        "id": "5GzGxXnYgdUS",
        "colab_type": "code",
        "colab": {
          "base_uri": "https://localhost:8080/",
          "height": 906
        },
        "outputId": "a7917747-905e-4da7-b5a2-3e7f9dada425"
      },
      "source": [
        "# employ training-and-test regimen for model validation\n",
        "np.random.seed(4444)\n",
        "houses_selected['runiform'] = uniform.rvs(loc = 0, scale = 1, size = len(houses_selected))\n",
        "\n",
        "houses_selected_train = houses_selected[houses_selected['runiform'] >= 0.33]\n",
        "houses_selected_test = houses_selected[houses_selected['runiform'] < 0.33]\n",
        "\n",
        "\n",
        "# check training data frame\n",
        "print('\\nhouses_selected_train data frame (rows, columns): ', houses_selected_train.shape)\n",
        "print(houses_selected_train.head())\n",
        "# check test data frame\n",
        "print('\\nhouses_selected_test data frame (rows, columns): ',houses_selected_test.shape)\n",
        "print(houses_selected_test.head())"
      ],
      "execution_count": 13,
      "outputs": [
        {
          "output_type": "stream",
          "text": [
            "\n",
            "houses_selected_train data frame (rows, columns):  (793, 18)\n",
            "          value  income   age   rooms  bedrooms    pop     hh  latitude  \\\n",
            "idx                                                                       \n",
            "14005  441700.0  4.7396  52.0  2023.0     301.0  649.0  285.0     32.76   \n",
            "14007  459600.0  8.6030  52.0  1504.0     208.0  518.0  196.0     32.75   \n",
            "14008  500001.0  8.1548  52.0  1495.0     230.0  459.0  190.0     32.75   \n",
            "14009  411600.0  6.1309  52.0  1388.0     213.0  513.0  211.0     32.75   \n",
            "14010  500001.0  5.7914  52.0  1294.0     175.0  434.0  180.0     32.76   \n",
            "\n",
            "       longitude  log_value  income_squared  income_cubed   log_age  \\\n",
            "idx                                                                   \n",
            "14005    -117.18  12.998386       22.463808    106.469465  3.951244   \n",
            "14007    -117.18  13.038112       74.011609    636.721872  3.951244   \n",
            "14008    -117.19  13.122365       66.500763    542.300422  3.951244   \n",
            "14009    -117.19  12.927807       37.587935    230.447870  3.951244   \n",
            "14010    -117.19  13.122365       33.540314    194.245374  3.951244   \n",
            "\n",
            "       log_pc_rooms  log_pc_bedrooms  log_pop_hh    log_hh  runiform  \n",
            "idx                                                                   \n",
            "14005      1.136904        -0.768322    2.277193  5.652489  0.942799  \n",
            "14007      1.065908        -0.912437    2.642857  5.278115  0.445349  \n",
            "14008      1.180831        -0.690971    2.415789  5.247024  0.638215  \n",
            "14009      0.995343        -0.878984    2.431280  5.351858  0.521494  \n",
            "14010      1.092449        -0.908259    2.411111  5.192957  0.900155  \n",
            "\n",
            "houses_selected_test data frame (rows, columns):  (413, 18)\n",
            "          value  income   age   rooms  bedrooms     pop      hh  latitude  \\\n",
            "idx                                                                         \n",
            "14006  408500.0  5.3920  52.0  1539.0     212.0   535.0   224.0     32.75   \n",
            "14011  354200.0  2.7266  45.0  3149.0     639.0  1160.0   661.0     32.76   \n",
            "14012  249000.0  3.6540  38.0  5430.0    1176.0  2357.0  1100.0     32.75   \n",
            "14013  274000.0  2.5288  39.0  3132.0     738.0  1200.0   690.0     32.74   \n",
            "14015  289600.0  3.0726  52.0  1052.0     239.0   381.0   201.0     32.75   \n",
            "\n",
            "       longitude  log_value  income_squared  income_cubed   log_age  \\\n",
            "idx                                                                   \n",
            "14006    -117.18  12.920247       29.073664    156.765196  3.951244   \n",
            "14011    -117.17  12.777617        7.434348     20.270492  3.806662   \n",
            "14012    -117.17  12.425208       13.351716     48.787170  3.637586   \n",
            "14013    -117.18  12.520883        6.394829     16.171245  3.663562   \n",
            "14015    -117.17  12.576256        9.440871     29.008019  3.951244   \n",
            "\n",
            "       log_pc_rooms  log_pc_bedrooms  log_pop_hh    log_hh  runiform  \n",
            "idx                                                                   \n",
            "14006      1.056621        -0.925680    2.388393  5.411646  0.123320  \n",
            "14011      0.998665        -0.596271    1.754917  6.493754  0.256962  \n",
            "14012      0.834550        -0.695271    2.142727  7.003065  0.192267  \n",
            "14013      0.959350        -0.486133    1.739130  6.536692  0.182353  \n",
            "14015      1.015649        -0.466336    1.895522  5.303305  0.271534  \n"
          ],
          "name": "stdout"
        }
      ]
    },
    {
      "cell_type": "code",
      "metadata": {
        "id": "r1v4RXkvgyyX",
        "colab_type": "code",
        "colab": {
          "base_uri": "https://localhost:8080/",
          "height": 772
        },
        "outputId": "ccbab986-165d-45a4-8d59-e7c49f9b4e37"
      },
      "source": [
        "# examine the correlations across the variables before we begin modeling\n",
        "houses_train_df_vars = houses_selected_train.loc[ : ,['log_value', 'income','log_pc_rooms', 'log_pc_bedrooms', 'rooms', 'bedrooms', 'hh', 'age', 'pop', 'log_pop_hh']]\n",
        "print(houses_train_df_vars.corr())\n",
        "\n",
        "sns.heatmap(houses_train_df_vars.corr())"
      ],
      "execution_count": 15,
      "outputs": [
        {
          "output_type": "stream",
          "text": [
            "                 log_value    income  log_pc_rooms  log_pc_bedrooms     rooms  \\\n",
            "log_value         1.000000  0.659510      0.675540         0.349961  0.157848   \n",
            "income            0.659510  1.000000      0.527058        -0.106339  0.223225   \n",
            "log_pc_rooms      0.675540  0.527058      1.000000         0.674607  0.190381   \n",
            "log_pc_bedrooms   0.349961 -0.106339      0.674607         1.000000  0.027068   \n",
            "rooms             0.157848  0.223225      0.190381         0.027068  1.000000   \n",
            "bedrooms          0.029609 -0.025875      0.073820         0.151982  0.929458   \n",
            "hh                0.020813 -0.015306      0.055065         0.108616  0.934255   \n",
            "age               0.009355 -0.218314     -0.010232         0.093863 -0.371797   \n",
            "pop              -0.092723  0.008507     -0.188314        -0.237542  0.897124   \n",
            "log_pop_hh       -0.312509  0.021222     -0.674988        -0.860651 -0.040936   \n",
            "\n",
            "                 bedrooms        hh       age       pop  log_pop_hh  \n",
            "log_value        0.029609  0.020813  0.009355 -0.092723   -0.312509  \n",
            "income          -0.025875 -0.015306 -0.218314  0.008507    0.021222  \n",
            "log_pc_rooms     0.073820  0.055065 -0.010232 -0.188314   -0.674988  \n",
            "log_pc_bedrooms  0.151982  0.108616  0.093863 -0.237542   -0.860651  \n",
            "rooms            0.929458  0.934255 -0.371797  0.897124   -0.040936  \n",
            "bedrooms         1.000000  0.994493 -0.356904  0.893494   -0.115490  \n",
            "hh               0.994493  1.000000 -0.349911  0.908285   -0.100761  \n",
            "age             -0.356904 -0.349911  1.000000 -0.380698   -0.096489  \n",
            "pop              0.893494  0.908285 -0.380698  1.000000    0.251116  \n",
            "log_pop_hh      -0.115490 -0.100761 -0.096489  0.251116    1.000000  \n"
          ],
          "name": "stdout"
        },
        {
          "output_type": "execute_result",
          "data": {
            "text/plain": [
              "<matplotlib.axes._subplots.AxesSubplot at 0x7f2f103c0d30>"
            ]
          },
          "metadata": {
            "tags": []
          },
          "execution_count": 15
        },
        {
          "output_type": "display_data",
          "data": {
            "image/png": "[encoded data removed]",
            "text/plain": [
              "<Figure size 432x288 with 2 Axes>"
            ]
          },
          "metadata": {
            "tags": []
          }
        }
      ]
    },
    {
      "cell_type": "code",
      "metadata": {
        "id": "pG1M0AobhA0_",
        "colab_type": "code",
        "colab": {
          "base_uri": "https://localhost:8080/",
          "height": 298
        },
        "outputId": "07258313-360c-45ba-f9c9-163882e2a920"
      },
      "source": [
        "# scatter plot matrix (splom) demonstration\n",
        "houses_train_splom_vars = houses_selected_train.loc[:, ['log_value', 'income', 'age', 'rooms']]\n",
        "scatter_matrix(houses_train_splom_vars)   \n",
        "pyplot.show()"
      ],
      "execution_count": 16,
      "outputs": [
        {
          "output_type": "display_data",
          "data": {
            "image/png": "[encoded data removed]",
            "text/plain": [
              "<Figure size 432x288 with 16 Axes>"
            ]
          },
          "metadata": {
            "tags": []
          }
        }
      ]
    },
    {
      "cell_type": "code",
      "metadata": {
        "id": "sydAH3lphXav",
        "colab_type": "code",
        "colab": {
          "base_uri": "https://localhost:8080/",
          "height": 835
        },
        "outputId": "164d381f-1912-4c6d-ce5f-dc637ededfa8"
      },
      "source": [
        "# --------------------------------------------\n",
        "# Linear regression a la Pace and Barry (1997)\n",
        "# --------------------------------------------\n",
        "# fit the model to the training set\n",
        "pace_barry_train_fit = smf.ols(pace_barry_model, data = houses_selected_train).fit()\n",
        "# summary of model fit to the training set\n",
        "print(pace_barry_train_fit.summary())\n",
        "# training set predictions from the model fit to the training set\n",
        "houses_selected_train['predict_log_value'] = pace_barry_train_fit.fittedvalues\n",
        "# test set predictions from the model fit to the training set\n",
        "houses_selected_test['predict_log_value'] = pace_barry_train_fit.predict(houses_selected_test)"
      ],
      "execution_count": 17,
      "outputs": [
        {
          "output_type": "stream",
          "text": [
            "                            OLS Regression Results                            \n",
            "==============================================================================\n",
            "Dep. Variable:              log_value   R-squared:                       0.643\n",
            "Model:                            OLS   Adj. R-squared:                  0.640\n",
            "Method:                 Least Squares   F-statistic:                     176.8\n",
            "Date:                Wed, 08 May 2019   Prob (F-statistic):          7.51e-170\n",
            "Time:                        08:19:46   Log-Likelihood:                -62.370\n",
            "No. Observations:                 793   AIC:                             142.7\n",
            "Df Residuals:                     784   BIC:                             184.8\n",
            "Df Model:                           8                                         \n",
            "Covariance Type:            nonrobust                                         \n",
            "===================================================================================\n",
            "                      coef    std err          t      P>|t|      [0.025      0.975]\n",
            "-----------------------------------------------------------------------------------\n",
            "Intercept          11.3731      0.154     73.793      0.000      11.071      11.676\n",
            "income              0.1135      0.048      2.370      0.018       0.019       0.208\n",
            "income_squared      0.0194      0.008      2.471      0.014       0.004       0.035\n",
            "income_cubed       -0.0013      0.000     -3.281      0.001      -0.002      -0.001\n",
            "log_age             0.1098      0.020      5.543      0.000       0.071       0.149\n",
            "log_pc_rooms        0.0689      0.081      0.853      0.394      -0.090       0.228\n",
            "log_pc_bedrooms     0.7796      0.080      9.791      0.000       0.623       0.936\n",
            "log_pop_hh          0.0819      0.020      4.181      0.000       0.043       0.120\n",
            "log_hh              0.0315      0.016      2.016      0.044       0.001       0.062\n",
            "==============================================================================\n",
            "Omnibus:                       52.641   Durbin-Watson:                   1.167\n",
            "Prob(Omnibus):                  0.000   Jarque-Bera (JB):              115.302\n",
            "Skew:                           0.393   Prob(JB):                     9.17e-26\n",
            "Kurtosis:                       4.695   Cond. No.                     3.38e+03\n",
            "==============================================================================\n",
            "\n",
            "Warnings:\n",
            "[1] Standard Errors assume that the covariance matrix of the errors is correctly specified.\n",
            "[2] The condition number is large, 3.38e+03. This might indicate that there are\n",
            "strong multicollinearity or other numerical problems.\n"
          ],
          "name": "stdout"
        },
        {
          "output_type": "stream",
          "text": [
            "/usr/local/lib/python3.6/dist-packages/ipykernel_launcher.py:5: SettingWithCopyWarning: \n",
            "A value is trying to be set on a copy of a slice from a DataFrame.\n",
            "Try using .loc[row_indexer,col_indexer] = value instead\n",
            "\n",
            "See the caveats in the documentation: http://pandas.pydata.org/pandas-docs/stable/indexing.html#indexing-view-versus-copy\n",
            "  \"\"\"\n",
            "/usr/local/lib/python3.6/dist-packages/ipykernel_launcher.py:7: SettingWithCopyWarning: \n",
            "A value is trying to be set on a copy of a slice from a DataFrame.\n",
            "Try using .loc[row_indexer,col_indexer] = value instead\n",
            "\n",
            "See the caveats in the documentation: http://pandas.pydata.org/pandas-docs/stable/indexing.html#indexing-view-versus-copy\n",
            "  import sys\n"
          ],
          "name": "stderr"
        }
      ]
    },
    {
      "cell_type": "code",
      "metadata": {
        "id": "ACXt2A6Lhu6J",
        "colab_type": "code",
        "colab": {
          "base_uri": "https://localhost:8080/",
          "height": 52
        },
        "outputId": "6b5b7359-7d58-4aa8-d999-62704b269f7b"
      },
      "source": [
        "# compute the proportion of response variance for training data\n",
        "pace_and_barry_train_result = round(np.power(houses_selected_train['log_value'].corr(houses_selected_train['predict_log_value']),2),3)\n",
        "print('\\nPace and Barry Proportion of Training Set Variance Accounted for: ',pace_and_barry_train_result)"
      ],
      "execution_count": 18,
      "outputs": [
        {
          "output_type": "stream",
          "text": [
            "\n",
            "Pace and Barry Proportion of Training Set Variance Accounted for:  0.643\n"
          ],
          "name": "stdout"
        }
      ]
    },
    {
      "cell_type": "code",
      "metadata": {
        "id": "nvhBKzJyiJ8z",
        "colab_type": "code",
        "colab": {
          "base_uri": "https://localhost:8080/",
          "height": 52
        },
        "outputId": "fe719835-bac5-4353-c2a7-fb4d45fc9f6f"
      },
      "source": [
        "# compute the proportion of response variance\n",
        "# accounted for when predicting out-of-sample\n",
        "pace_and_barry_test_result = round(np.power(houses_selected_test['log_value'].corr(houses_selected_test['predict_log_value']),2),3)\n",
        "print('\\nPace and Barry Proportion of Test Set Variance Accounted for: ',pace_and_barry_test_result)"
      ],
      "execution_count": 19,
      "outputs": [
        {
          "output_type": "stream",
          "text": [
            "\n",
            "Pace and Barry Proportion of Test Set Variance Accounted for:  0.568\n"
          ],
          "name": "stdout"
        }
      ]
    },
    {
      "cell_type": "code",
      "metadata": {
        "id": "GY0vMkIZiXZx",
        "colab_type": "code",
        "colab": {
          "base_uri": "https://localhost:8080/",
          "height": 284
        },
        "outputId": "630c282d-4768-4cf8-d49f-f0b2f2adefa3"
      },
      "source": [
        "# --------------------------------------\n",
        "# Tree-structured regression (simple)\n",
        "# --------------------------------------\n",
        "# try tree-structured regression on the original explantory variables\n",
        "# note that one of the advantages of trees is no need for transformations\n",
        "# of the explanatory variables... sklearn DecisionTreeRegressor\n",
        "\n",
        "tree_model_maker = DecisionTreeRegressor(random_state = 9999, max_depth = 5)\n",
        "\n",
        "y_train = houses_selected_train.loc[:, ['log_value']]\n",
        "\n",
        "# simple model has six predictors\n",
        "X_train_simple = houses_selected_train.loc[:,['income', 'age', 'rooms', 'bedrooms', 'pop', 'hh']]\n",
        "X_test_simple = houses_selected_test.loc[:,['income', 'age', 'rooms', 'bedrooms', 'pop', 'hh']]\n",
        "\n",
        "tree_model_fit = tree_model_maker.fit(X_train_simple, y_train)\n",
        "\n",
        "# compute the proportion of response variance for training data\n",
        "houses_selected_train['simple_tree_predict_log_value'] =tree_model_fit.predict(X_train_simple)\n",
        "simple_tree_train_result = round(np.power(houses_selected_train['log_value'].corr(houses_selected_train['simple_tree_predict_log_value']),2),3)\n",
        "print('\\nSimple Tree Proportion of Training Set Variance Accounted for: ',simple_tree_train_result)\n",
        "\n",
        "# compute the proportion of response variance for test data\n",
        "houses_selected_test['simple_tree_predict_log_value'] =tree_model_fit.predict(X_test_simple)\n",
        "simple_tree_test_result = round(np.power(houses_selected_test['log_value'].corr(houses_selected_test['simple_tree_predict_log_value']),2),3)\n",
        "print('\\nSimple Tree Proportion of Test Set Variance Accounted for: ',simple_tree_test_result)"
      ],
      "execution_count": 20,
      "outputs": [
        {
          "output_type": "stream",
          "text": [
            "\n",
            "Simple Tree Proportion of Training Set Variance Accounted for:  0.621\n",
            "\n",
            "Simple Tree Proportion of Test Set Variance Accounted for:  0.461\n"
          ],
          "name": "stdout"
        },
        {
          "output_type": "stream",
          "text": [
            "/usr/local/lib/python3.6/dist-packages/ipykernel_launcher.py:13: SettingWithCopyWarning: \n",
            "A value is trying to be set on a copy of a slice from a DataFrame.\n",
            "Try using .loc[row_indexer,col_indexer] = value instead\n",
            "\n",
            "See the caveats in the documentation: http://pandas.pydata.org/pandas-docs/stable/indexing.html#indexing-view-versus-copy\n",
            "  del sys.path[0]\n",
            "/usr/local/lib/python3.6/dist-packages/ipykernel_launcher.py:18: SettingWithCopyWarning: \n",
            "A value is trying to be set on a copy of a slice from a DataFrame.\n",
            "Try using .loc[row_indexer,col_indexer] = value instead\n",
            "\n",
            "See the caveats in the documentation: http://pandas.pydata.org/pandas-docs/stable/indexing.html#indexing-view-versus-copy\n"
          ],
          "name": "stderr"
        }
      ]
    },
    {
      "cell_type": "code",
      "metadata": {
        "id": "PUDD1iKli5bF",
        "colab_type": "code",
        "colab": {
          "base_uri": "https://localhost:8080/",
          "height": 375
        },
        "outputId": "1ec993c6-9692-4f52-bf9f-935eefceab8c"
      },
      "source": [
        "# --------------------------------------\n",
        "# Random forests (full)\n",
        "# --------------------------------------\n",
        "rf_model_maker = RandomForestRegressor(random_state = 9999)\n",
        "\n",
        "y_train = houses_selected_train.loc[:, ['log_value']]\n",
        "\n",
        "# full model has more predictors\n",
        "X_train_full = houses_selected_train.loc[:, ['income', 'age', 'rooms', 'bedrooms','pop', 'hh', 'log_pc_rooms', 'log_pc_bedrooms', 'log_pop_hh']]\n",
        "X_test_full = houses_selected_test.loc[:, ['income', 'age', 'rooms', 'bedrooms','pop', 'hh', 'log_pc_rooms', 'log_pc_bedrooms', 'log_pop_hh']]\n",
        "\n",
        "rf_model_fit = rf_model_maker.fit(X_train_full, y_train)\n",
        "\n",
        "# compute the proportion of response variance for training data\n",
        "houses_selected_train['full_rf_predict_log_value'] = rf_model_fit.predict(X_train_full)\n",
        "full_rf_train_result = round(np.power(houses_selected_train['log_value'].corr(houses_selected_train['full_rf_predict_log_value']),2),3)\n",
        "print('\\nFull Random Forest Prop of Training Set Variance Accounted for: ',full_rf_train_result)\n",
        "\n",
        "# compute the proportion of response variance for test data\n",
        "houses_selected_test['full_rf_predict_log_value'] =rf_model_fit.predict(X_test_full)\n",
        "full_rf_test_result =  round(np.power(houses_selected_test['log_value'].corr(houses_selected_test['full_rf_predict_log_value']),2),3)\n",
        "print('\\nFull Random Forest Prop of Test Set Variance Accounted for: ',full_rf_test_result)\n"
      ],
      "execution_count": 21,
      "outputs": [
        {
          "output_type": "stream",
          "text": [
            "/usr/local/lib/python3.6/dist-packages/sklearn/ensemble/forest.py:246: FutureWarning: The default value of n_estimators will change from 10 in version 0.20 to 100 in 0.22.\n",
            "  \"10 in version 0.20 to 100 in 0.22.\", FutureWarning)\n",
            "/usr/local/lib/python3.6/dist-packages/ipykernel_launcher.py:9: DataConversionWarning: A column-vector y was passed when a 1d array was expected. Please change the shape of y to (n_samples,), for example using ravel().\n",
            "  if __name__ == '__main__':\n",
            "/usr/local/lib/python3.6/dist-packages/ipykernel_launcher.py:12: SettingWithCopyWarning: \n",
            "A value is trying to be set on a copy of a slice from a DataFrame.\n",
            "Try using .loc[row_indexer,col_indexer] = value instead\n",
            "\n",
            "See the caveats in the documentation: http://pandas.pydata.org/pandas-docs/stable/indexing.html#indexing-view-versus-copy\n",
            "  if sys.path[0] == '':\n"
          ],
          "name": "stderr"
        },
        {
          "output_type": "stream",
          "text": [
            "\n",
            "Full Random Forest Prop of Training Set Variance Accounted for:  0.946\n",
            "\n",
            "Full Random Forest Prop of Test Set Variance Accounted for:  0.627\n"
          ],
          "name": "stdout"
        },
        {
          "output_type": "stream",
          "text": [
            "/usr/local/lib/python3.6/dist-packages/ipykernel_launcher.py:17: SettingWithCopyWarning: \n",
            "A value is trying to be set on a copy of a slice from a DataFrame.\n",
            "Try using .loc[row_indexer,col_indexer] = value instead\n",
            "\n",
            "See the caveats in the documentation: http://pandas.pydata.org/pandas-docs/stable/indexing.html#indexing-view-versus-copy\n"
          ],
          "name": "stderr"
        }
      ]
    },
    {
      "cell_type": "code",
      "metadata": {
        "id": "UwuYLGWOjifk",
        "colab_type": "code",
        "colab": {
          "base_uri": "https://localhost:8080/",
          "height": 35
        },
        "outputId": "689dd67b-a112-448d-ac5e-0e569c022210"
      },
      "source": [
        "# --------------------------------------------------\n",
        "# we have been using a simple training-and-test split for validation\n",
        "# an alternative is multi-fold cross-validation, as shown here\n",
        "# for the simple tree-structured regression model\n",
        "\n",
        "from sklearn.model_selection import cross_validate\n",
        "from sklearn.model_selection import KFold\n",
        "from sklearn.model_selection import cross_val_score\n",
        "\n",
        "# specify number of folds for multi-fold cross-validation\n",
        "# a simple training-and-test regimen would have two folds\n",
        "specified_n_folds = 5\n",
        "\n",
        "# specify the modeling technique or method of analysis\n",
        "tree_model_maker = DecisionTreeRegressor(random_state = 9999, max_depth = 5)\n",
        "\n",
        "# specify the response variable \n",
        "y = houses_selected.loc[:, ['log_value']]\n",
        "\n",
        "# specify the explanatory variables \n",
        "X = houses_selected.loc[:, ['income', 'age', 'rooms', 'bedrooms', 'pop', 'hh']]\n",
        "\n",
        "\n",
        "score =cross_val_score(tree_model_maker, X,y, cv=specified_n_folds)\n",
        "\n",
        "print(np.average(score))"
      ],
      "execution_count": 30,
      "outputs": [
        {
          "output_type": "stream",
          "text": [
            "0.2798907197641324\n"
          ],
          "name": "stdout"
        }
      ]
    },
    {
      "cell_type": "code",
      "metadata": {
        "id": "40NBB6LjkXMi",
        "colab_type": "code",
        "colab": {}
      },
      "source": [
        ""
      ],
      "execution_count": 0,
      "outputs": []
    }
  ]
}