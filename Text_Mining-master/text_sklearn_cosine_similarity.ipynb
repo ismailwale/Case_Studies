{
  "nbformat": 4,
  "nbformat_minor": 0,
  "metadata": {
    "colab": {
      "name": "text-sklearn_cosine_similarity.ipynb",
      "version": "0.3.2",
      "provenance": []
    },
    "language_info": {
      "codemirror_mode": {
        "name": "ipython",
        "version": 3
      },
      "file_extension": ".py",
      "mimetype": "text/x-python",
      "name": "python",
      "nbconvert_exporter": "python",
      "pygments_lexer": "ipython3",
      "version": "3.6.5"
    },
    "kernelspec": {
      "display_name": "Python 3",
      "language": "python",
      "name": "python3"
    }
  },
  "cells": [
    {
      "cell_type": "markdown",
      "metadata": {
        "id": "JNR6L6oHnqMb",
        "colab_type": "text"
      },
      "source": [
        "# Tutorial: How to Calculate Cosine Similarity"
      ]
    },
    {
      "cell_type": "markdown",
      "metadata": {
        "id": "8wD4BO43nqMd",
        "colab_type": "text"
      },
      "source": [
        "## Method 1: Use numpy's dot and norm functions"
      ]
    },
    {
      "cell_type": "code",
      "metadata": {
        "id": "fZF7sAiCnqMe",
        "colab_type": "code",
        "colab": {
          "base_uri": "https://localhost:8080/",
          "height": 35
        },
        "outputId": "3e48d5e8-3c7a-4ca6-e60f-3c7b3d13635a"
      },
      "source": [
        "from numpy import dot\n",
        "from numpy.linalg import norm\n",
        "X = [1,2]\n",
        "Y = [2,2]\n",
        "cos_sim = dot(X,Y) / (norm(X)*norm(Y))\n",
        "print(cos_sim)"
      ],
      "execution_count": 1,
      "outputs": [
        {
          "output_type": "stream",
          "text": [
            "0.9486832980505138\n"
          ],
          "name": "stdout"
        }
      ]
    },
    {
      "cell_type": "markdown",
      "metadata": {
        "id": "yHBshl8WnqMo",
        "colab_type": "text"
      },
      "source": [
        "## Method 2: Use scipy's built-in cosine function"
      ]
    },
    {
      "cell_type": "code",
      "metadata": {
        "id": "CQGmYRa9nqMp",
        "colab_type": "code",
        "colab": {
          "base_uri": "https://localhost:8080/",
          "height": 35
        },
        "outputId": "63f76869-e88b-41ef-bde7-c8822d501d5e"
      },
      "source": [
        "# note that this function actually calculates cosine similarity \n",
        "# and then use \"1-similarity\" to convert similarity to distance\n",
        "# to get the actual cosine similarity, you need to do 1-distance\n",
        "\n",
        "from scipy import spatial\n",
        "X = [1,2]\n",
        "Y = [2,2]\n",
        "cos_sim = 1 - spatial.distance.cosine(X, Y)\n",
        "print(cos_sim)"
      ],
      "execution_count": 2,
      "outputs": [
        {
          "output_type": "stream",
          "text": [
            "0.9486832980505138\n"
          ],
          "name": "stdout"
        }
      ]
    },
    {
      "cell_type": "markdown",
      "metadata": {
        "id": "OgMP0QoznqMv",
        "colab_type": "text"
      },
      "source": [
        "## Method 3: Use sklearn to calculate the cosine similarity matrix among vectors"
      ]
    },
    {
      "cell_type": "code",
      "metadata": {
        "id": "CLxpT6qCnqMw",
        "colab_type": "code",
        "colab": {
          "base_uri": "https://localhost:8080/",
          "height": 106
        },
        "outputId": "4e03e77e-4f45-4b39-e382-94434c927518"
      },
      "source": [
        "from sklearn.metrics.pairwise import cosine_similarity\n",
        "import numpy as np\n",
        "X = np.array([1,2])\n",
        "Y = np.array([2,2])\n",
        "Z = np.array([2,4])\n",
        "\n",
        "# calculate cosine similarity between [X] and [Y,Z]\n",
        "# sending input as arrays would allow for calculating both cosine_sim(X,Y) and cosine_sim (X,Y)\n",
        "cos_sim = cosine_similarity([X], [Y,Z])\n",
        "print(cos_sim)\n",
        "\n",
        "# calculate the entire cosie similarity matrix among X, Y, and Z\n",
        "cos_sim = cosine_similarity([X, Y, Z])\n",
        "print(cos_sim)\n",
        "print()\n"
      ],
      "execution_count": 3,
      "outputs": [
        {
          "output_type": "stream",
          "text": [
            "[[0.9486833 1.       ]]\n",
            "[[1.        0.9486833 1.       ]\n",
            " [0.9486833 1.        0.9486833]\n",
            " [1.        0.9486833 1.       ]]\n",
            "\n"
          ],
          "name": "stdout"
        }
      ]
    },
    {
      "cell_type": "markdown",
      "metadata": {
        "id": "EVBMIRhRnqM0",
        "colab_type": "text"
      },
      "source": [
        "## Use cosine similarity for plagiarism detection"
      ]
    },
    {
      "cell_type": "code",
      "metadata": {
        "id": "c3c-UPOknqM1",
        "colab_type": "code",
        "colab": {
          "base_uri": "https://localhost:8080/",
          "height": 144
        },
        "outputId": "c1d7933e-b240-424b-d4cd-fc29f31a2e39"
      },
      "source": [
        "# data from https://www.bowdoin.edu/studentaffairs/academic-honesty/examples/mosaic/index.shtml\n",
        "\n",
        "txt_original = \"Contrast the condition into which all these friendly Indians are suddenly plunged now, with their condition only two years previous: martial law now in force on all their reservations; themselves in danger of starvation, and constantly exposed to the influence of emissaries from their friends and relations, urging them to join in fighting this treacherous government that had kept faith with nobody--neither with friend nor with foe.\"\n",
        "txt_plagiarized = \"Only two years later, all these friendly Sioux were suddenly plunged into new conditions, including starvation, martial law on all their reservations, and constant urging by their friends and relations to join in warfare against the treacherous government that had kept faith with neither friend nor foe.\"\n",
        "txt_control = \"Only two years later, all the money he won from lottery was gone.\"\n",
        "\n",
        "txts = [txt_original, txt_plagiarized, txt_control]\n",
        "from sklearn.feature_extraction.text import CountVectorizer\n",
        "from sklearn.feature_extraction.text import TfidfVectorizer\n",
        "\n",
        "unigram_count = CountVectorizer(encoding='latin-1', binary=False)\n",
        "unigram_count_stop_remove = CountVectorizer(encoding='latin-1', binary=False, stop_words='english')\n",
        "\n",
        "vecs = unigram_count.fit_transform(txts)\n",
        "\n",
        "print(vecs.shape)\n",
        "\n",
        "from sklearn.metrics.pairwise import linear_kernel\n",
        "cos_sim = cosine_similarity(vecs[0], vecs)\n",
        "print(cos_sim)\n",
        "sim_sorted_doc_idx = cos_sim.argsort()\n",
        "print(sim_sorted_doc_idx.shape)\n",
        "\n",
        "# print the most similar doc; it's actually the original doc itself\n",
        "print(txts[sim_sorted_doc_idx[0][len(txts)-1]])\n",
        "print()\n",
        "\n",
        "# print the second most similar doc; it's the most likely plagiarized one\n",
        "print(txts[sim_sorted_doc_idx[0][len(txts)-2]])\n"
      ],
      "execution_count": 4,
      "outputs": [
        {
          "output_type": "stream",
          "text": [
            "(3, 70)\n",
            "[[1.         0.69376514 0.21550898]]\n",
            "(1, 3)\n",
            "Contrast the condition into which all these friendly Indians are suddenly plunged now, with their condition only two years previous: martial law now in force on all their reservations; themselves in danger of starvation, and constantly exposed to the influence of emissaries from their friends and relations, urging them to join in fighting this treacherous government that had kept faith with nobody--neither with friend nor with foe.\n",
            "\n",
            "Only two years later, all these friendly Sioux were suddenly plunged into new conditions, including starvation, martial law on all their reservations, and constant urging by their friends and relations to join in warfare against the treacherous government that had kept faith with neither friend nor foe.\n"
          ],
          "name": "stdout"
        }
      ]
    },
    {
      "cell_type": "code",
      "metadata": {
        "id": "JQdEr1wAnqM5",
        "colab_type": "code",
        "colab": {
          "base_uri": "https://localhost:8080/",
          "height": 70
        },
        "outputId": "2d6e220b-3b4e-4ed0-a7b2-8f18c8e18118"
      },
      "source": [
        "Doc1 = \"book, book, music, video, video\"\n",
        "Doc2 = \"music, music, video\"\n",
        "Doc3 = \"book, book, video\"\n",
        "\n",
        "## vectorization\n",
        "unigram_count = CountVectorizer(encoding='latin-1', binary=False)\n",
        "docs = [Doc1, Doc2, Doc2]\n",
        "vec = unigram_count.fit_transform(docs)\n",
        "\n",
        "## cosine similarity\n",
        "cos_sim = cosine_similarity(vec)\n",
        "print(cos_sim)"
      ],
      "execution_count": 5,
      "outputs": [
        {
          "output_type": "stream",
          "text": [
            "[[1.         0.59628479 0.59628479]\n",
            " [0.59628479 1.         1.        ]\n",
            " [0.59628479 1.         1.        ]]\n"
          ],
          "name": "stdout"
        }
      ]
    },
    {
      "cell_type": "code",
      "metadata": {
        "id": "PiqE2kDrrQRk",
        "colab_type": "code",
        "colab": {
          "base_uri": "https://localhost:8080/",
          "height": 70
        },
        "outputId": "0e70985d-f843-438b-ab8b-abe89e0fb254"
      },
      "source": [
        "Doc1 = \"book, book, music, video, video\"\n",
        "Doc2 = \"music, music, video\"\n",
        "Doc3 = \"book, book, video\"\n",
        "\n",
        "## vectorization\n",
        "unigram_count = CountVectorizer(encoding='latin-1', binary=True)\n",
        "docs = [Doc1, Doc2, Doc2]\n",
        "vec = unigram_count.fit_transform(docs)\n",
        "\n",
        "## cosine similarity\n",
        "cos_sim = cosine_similarity(vec)\n",
        "print(cos_sim)"
      ],
      "execution_count": 6,
      "outputs": [
        {
          "output_type": "stream",
          "text": [
            "[[1.         0.81649658 0.81649658]\n",
            " [0.81649658 1.         1.        ]\n",
            " [0.81649658 1.         1.        ]]\n"
          ],
          "name": "stdout"
        }
      ]
    },
    {
      "cell_type": "code",
      "metadata": {
        "id": "biuRL_CzrbdW",
        "colab_type": "code",
        "colab": {}
      },
      "source": [
        ""
      ],
      "execution_count": 0,
      "outputs": []
    }
  ]
}