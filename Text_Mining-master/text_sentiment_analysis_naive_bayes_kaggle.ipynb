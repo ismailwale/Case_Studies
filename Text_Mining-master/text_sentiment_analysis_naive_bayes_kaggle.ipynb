{
  "nbformat": 4,
  "nbformat_minor": 0,
  "metadata": {
    "colab": {
      "name": "text-sentiment-analysis-naive-bayes-kaggle.ipynb",
      "version": "0.3.2",
      "provenance": [],
      "include_colab_link": true
    },
    "kernelspec": {
      "name": "python3",
      "display_name": "Python 3"
    }
  },
  "cells": [
    {
      "cell_type": "markdown",
      "metadata": {
        "id": "view-in-github",
        "colab_type": "text"
      },
      "source": [
        "<a href=\"https://colab.research.google.com/github/toraaglobal/TextMining/blob/master/text_sentiment_analysis_naive_bayes_kaggle.ipynb\" target=\"_parent\"><img src=\"https://colab.research.google.com/assets/colab-badge.svg\" alt=\"Open In Colab\"/></a>"
      ]
    },
    {
      "cell_type": "code",
      "metadata": {
        "id": "bziBaDc6M4fJ",
        "colab_type": "code",
        "colab": {}
      },
      "source": [
        "# import packages\n",
        "import pandas as pd\n",
        "import numpy as np\n",
        "import seaborn as sns\n",
        "import matplotlib.pyplot as plt\n",
        "\n",
        "#vectoriation\n",
        "from sklearn.feature_extraction.text import CountVectorizer\n",
        "from sklearn.feature_extraction.text import TfidfVectorizer\n",
        "\n",
        "#model\n",
        "from sklearn.naive_bayes import MultinomialNB\n",
        "from sklearn.naive_bayes import BernoulliNB\n",
        "\n",
        "#model evaluation\n",
        "from sklearn.pipeline import Pipeline\n",
        "from sklearn.model_selection import cross_val_score\n",
        "\n",
        "\n",
        "from sklearn.model_selection import train_test_split\n",
        "\n",
        "\n",
        "%matplotlib inline"
      ],
      "execution_count": 0,
      "outputs": []
    },
    {
      "cell_type": "code",
      "metadata": {
        "id": "454v3Kh-PAQp",
        "colab_type": "code",
        "colab": {
          "base_uri": "https://localhost:8080/",
          "height": 35
        },
        "outputId": "2e2dfb38-504d-4a60-b426-419aa203c9e6"
      },
      "source": [
        "\n",
        "#Mount the gdrive\n",
        "import os\n",
        "from google.colab import drive\n",
        "drive.mount('/content/drive')\n",
        "\n",
        "\n",
        "#change directry to the gdrive\n",
        "\n",
        "os.chdir('./drive/My Drive/Colab Notebooks/data')"
      ],
      "execution_count": 4,
      "outputs": [
        {
          "output_type": "stream",
          "text": [
            "Drive already mounted at /content/drive; to attempt to forcibly remount, call drive.mount(\"/content/drive\", force_remount=True).\n"
          ],
          "name": "stdout"
        }
      ]
    },
    {
      "cell_type": "code",
      "metadata": {
        "id": "ZV3UDR4GP756",
        "colab_type": "code",
        "colab": {
          "base_uri": "https://localhost:8080/",
          "height": 52
        },
        "outputId": "b8a60e05-d791-4e14-8217-20c92d7c7be9"
      },
      "source": [
        "## Read Data\n",
        "\n",
        "train = pd.read_csv('./kaggle-sentiment/train.tsv', sep='\\t')\n",
        "test = pd.read_csv('./kaggle-sentiment/test.tsv', sep='\\t')\n",
        "\n",
        "print('Train shape : {}'.format(train.shape))\n",
        "print('Test shape : {}'.format(test.shape))"
      ],
      "execution_count": 7,
      "outputs": [
        {
          "output_type": "stream",
          "text": [
            "Train shape : (156060, 4)\n",
            "Test shape : (66292, 3)\n"
          ],
          "name": "stdout"
        }
      ]
    },
    {
      "cell_type": "code",
      "metadata": {
        "id": "PKnL2BE-RIdh",
        "colab_type": "code",
        "colab": {
          "base_uri": "https://localhost:8080/",
          "height": 194
        },
        "outputId": "162076b9-ef9d-4a67-d846-5fa6544d3000"
      },
      "source": [
        "train.head()"
      ],
      "execution_count": 8,
      "outputs": [
        {
          "output_type": "execute_result",
          "data": {
            "text/html": [
              "<div>\n",
              "<style scoped>\n",
              "    .dataframe tbody tr th:only-of-type {\n",
              "        vertical-align: middle;\n",
              "    }\n",
              "\n",
              "    .dataframe tbody tr th {\n",
              "        vertical-align: top;\n",
              "    }\n",
              "\n",
              "    .dataframe thead th {\n",
              "        text-align: right;\n",
              "    }\n",
              "</style>\n",
              "<table border=\"1\" class=\"dataframe\">\n",
              "  <thead>\n",
              "    <tr style=\"text-align: right;\">\n",
              "      <th></th>\n",
              "      <th>PhraseId</th>\n",
              "      <th>SentenceId</th>\n",
              "      <th>Phrase</th>\n",
              "      <th>Sentiment</th>\n",
              "    </tr>\n",
              "  </thead>\n",
              "  <tbody>\n",
              "    <tr>\n",
              "      <th>0</th>\n",
              "      <td>1</td>\n",
              "      <td>1</td>\n",
              "      <td>A series of escapades demonstrating the adage ...</td>\n",
              "      <td>1</td>\n",
              "    </tr>\n",
              "    <tr>\n",
              "      <th>1</th>\n",
              "      <td>2</td>\n",
              "      <td>1</td>\n",
              "      <td>A series of escapades demonstrating the adage ...</td>\n",
              "      <td>2</td>\n",
              "    </tr>\n",
              "    <tr>\n",
              "      <th>2</th>\n",
              "      <td>3</td>\n",
              "      <td>1</td>\n",
              "      <td>A series</td>\n",
              "      <td>2</td>\n",
              "    </tr>\n",
              "    <tr>\n",
              "      <th>3</th>\n",
              "      <td>4</td>\n",
              "      <td>1</td>\n",
              "      <td>A</td>\n",
              "      <td>2</td>\n",
              "    </tr>\n",
              "    <tr>\n",
              "      <th>4</th>\n",
              "      <td>5</td>\n",
              "      <td>1</td>\n",
              "      <td>series</td>\n",
              "      <td>2</td>\n",
              "    </tr>\n",
              "  </tbody>\n",
              "</table>\n",
              "</div>"
            ],
            "text/plain": [
              "   PhraseId  SentenceId                                             Phrase  \\\n",
              "0         1           1  A series of escapades demonstrating the adage ...   \n",
              "1         2           1  A series of escapades demonstrating the adage ...   \n",
              "2         3           1                                           A series   \n",
              "3         4           1                                                  A   \n",
              "4         5           1                                             series   \n",
              "\n",
              "   Sentiment  \n",
              "0          1  \n",
              "1          2  \n",
              "2          2  \n",
              "3          2  \n",
              "4          2  "
            ]
          },
          "metadata": {
            "tags": []
          },
          "execution_count": 8
        }
      ]
    },
    {
      "cell_type": "code",
      "metadata": {
        "id": "pDYF57FrRdQE",
        "colab_type": "code",
        "colab": {}
      },
      "source": [
        "## get the phrase and the sentiment\n",
        "\n",
        "features = train['Phrase'].values\n",
        "target = train['Sentiment'].values\n",
        "\n"
      ],
      "execution_count": 0,
      "outputs": []
    },
    {
      "cell_type": "code",
      "metadata": {
        "id": "IHxnJb2QSPwx",
        "colab_type": "code",
        "colab": {
          "base_uri": "https://localhost:8080/",
          "height": 88
        },
        "outputId": "f53de002-ef05-44a5-9806-b304267c1157"
      },
      "source": [
        "## train test split\n",
        "\n",
        "X_train,X_test, y_train,y_test = train_test_split(features,target, test_size=0.3, random_state=12)\n",
        "\n",
        "print('X_train Shape: {}'.format(X_train.shape))\n",
        "print('X_test Shape: {}'.format(X_test.shape))\n",
        "print('y_train shape: {}'.format(y_train.shape))\n",
        "print('y_test shape: {}'.format(y_test.shape))\n",
        "\n"
      ],
      "execution_count": 11,
      "outputs": [
        {
          "output_type": "stream",
          "text": [
            "X_train Shape: (109242,)\n",
            "X_test Shape: (46818,)\n",
            "y_train shape: (109242,)\n",
            "y_test shape: (46818,)\n"
          ],
          "name": "stdout"
        }
      ]
    },
    {
      "cell_type": "code",
      "metadata": {
        "id": "x7KCUVBBTu1-",
        "colab_type": "code",
        "colab": {
          "base_uri": "https://localhost:8080/",
          "height": 269
        },
        "outputId": "66c906db-a715-4c7f-8f50-af6f2e43d0c5"
      },
      "source": [
        "## target distribution\n",
        "plt.figure()\n",
        "sns.countplot(y_train)\n",
        "plt.show()"
      ],
      "execution_count": 13,
      "outputs": [
        {
          "output_type": "display_data",
          "data": {
            "image/png": "[encoded data removed]",
            "text/plain": [
              "<Figure size 432x288 with 1 Axes>"
            ]
          },
          "metadata": {
            "tags": []
          }
        }
      ]
    },
    {
      "cell_type": "code",
      "metadata": {
        "id": "ZXzS1GQPURvo",
        "colab_type": "code",
        "colab": {
          "base_uri": "https://localhost:8080/",
          "height": 269
        },
        "outputId": "d4488dd9-e24b-4497-d149-0f7300935d7f"
      },
      "source": [
        "plt.figure()\n",
        "sns.countplot(y_test)\n",
        "plt.show()"
      ],
      "execution_count": 14,
      "outputs": [
        {
          "output_type": "display_data",
          "data": {
            "image/png": "[encoded data removed]",
            "text/plain": [
              "<Figure size 432x288 with 1 Axes>"
            ]
          },
          "metadata": {
            "tags": []
          }
        }
      ]
    },
    {
      "cell_type": "code",
      "metadata": {
        "id": "6PmElVgvUevR",
        "colab_type": "code",
        "colab": {
          "base_uri": "https://localhost:8080/",
          "height": 106
        },
        "outputId": "a8dccdf0-6bb8-4954-8c34-3cd6aa22120b"
      },
      "source": [
        "## count the propotion for each class for baseline accuracy\n",
        "\n",
        "unique, count = np.unique(y_train, return_counts=True)\n",
        "\n",
        "for clas, i in zip( unique,count):\n",
        "  print('{} : {}%'.format(clas, (i/len(y_train) * 100)))"
      ],
      "execution_count": 17,
      "outputs": [
        {
          "output_type": "stream",
          "text": [
            "0 : 4.51932406949708%\n",
            "1 : 17.375185368264955%\n",
            "2 : 51.11678658391461%\n",
            "3 : 21.095366251075593%\n",
            "4 : 5.893337727247762%\n"
          ],
          "name": "stdout"
        }
      ]
    },
    {
      "cell_type": "code",
      "metadata": {
        "id": "nuPioz9FV739",
        "colab_type": "code",
        "colab": {}
      },
      "source": [
        "## The baseline accuracy using majority vote is 51%\n",
        "\n",
        "\n",
        "## Vectorization\n",
        "\n",
        "#  unigram boolean vectorizer, set minimum document frequency to 5\n",
        "unigram_bool_vectorizer = CountVectorizer(encoding='latin-1', binary=True, min_df=5, stop_words='english')\n",
        "\n",
        "#  unigram term frequency vectorizer, set minimum document frequency to 5\n",
        "unigram_count_vectorizer = CountVectorizer(encoding='latin-1', binary=False, min_df=5, stop_words='english')\n",
        "\n",
        "#  unigram and bigram term frequency vectorizer, set minimum document frequency to 5\n",
        "gram12_count_vectorizer = CountVectorizer(encoding='latin-1', ngram_range=(1,2), min_df=5, stop_words='english')\n",
        "\n",
        "#  unigram tfidf vectorizer, set minimum document frequency to 5\n",
        "unigram_tfidf_vectorizer = TfidfVectorizer(encoding='latin-1', use_idf=True, min_df=5, stop_words='english')\n",
        "\n"
      ],
      "execution_count": 0,
      "outputs": []
    },
    {
      "cell_type": "code",
      "metadata": {
        "id": "szVBIkymXWY9",
        "colab_type": "code",
        "colab": {}
      },
      "source": [
        "## create a pipeline\n",
        "\n",
        "def score_model_pipeline(model, vectorizer, X,y, cv=5):\n",
        "  nbc = Pipeline([('vect', vectorizer), ('nb', model)])\n",
        "  scores = cross_val_score(nbc, X,y,cv=cv)\n",
        "  print('Avg Score: {}'.format(sum(scores)/len(scores)))\n",
        "  "
      ],
      "execution_count": 0,
      "outputs": []
    },
    {
      "cell_type": "code",
      "metadata": {
        "id": "oaFy7yEEY9x0",
        "colab_type": "code",
        "colab": {
          "base_uri": "https://localhost:8080/",
          "height": 35
        },
        "outputId": "62a7b5ec-28c4-40bf-edfb-e2903d90613a"
      },
      "source": [
        "# model1 multinimialNB\n",
        "model1 =  MultinomialNB()\n",
        "\n",
        "score_model_pipeline(model1, unigram_bool_vectorizer,X_train,y_train)"
      ],
      "execution_count": 23,
      "outputs": [
        {
          "output_type": "stream",
          "text": [
            "Avg Score: 0.6020029250607873\n"
          ],
          "name": "stdout"
        }
      ]
    },
    {
      "cell_type": "code",
      "metadata": {
        "id": "M50mILViZfyK",
        "colab_type": "code",
        "colab": {
          "base_uri": "https://localhost:8080/",
          "height": 35
        },
        "outputId": "29c1c2cf-765d-4fa6-da2d-b0e78c748c0e"
      },
      "source": [
        "# count vectorizer\n",
        "\n",
        "score_model_pipeline(model1, unigram_count_vectorizer,X_train,y_train)"
      ],
      "execution_count": 24,
      "outputs": [
        {
          "output_type": "stream",
          "text": [
            "Avg Score: 0.6022409553222035\n"
          ],
          "name": "stdout"
        }
      ]
    },
    {
      "cell_type": "code",
      "metadata": {
        "id": "Xr0Mtb7EZ4IM",
        "colab_type": "code",
        "colab": {
          "base_uri": "https://localhost:8080/",
          "height": 35
        },
        "outputId": "d16084ab-7a63-41c3-e9b2-3e90735cb709"
      },
      "source": [
        "#ngram\n",
        "score_model_pipeline(model1, gram12_count_vectorizer,X_train,y_train)"
      ],
      "execution_count": 25,
      "outputs": [
        {
          "output_type": "stream",
          "text": [
            "Avg Score: 0.5932517576102463\n"
          ],
          "name": "stdout"
        }
      ]
    },
    {
      "cell_type": "code",
      "metadata": {
        "id": "802kVqOuaFB_",
        "colab_type": "code",
        "colab": {
          "base_uri": "https://localhost:8080/",
          "height": 35
        },
        "outputId": "4239fc4f-cca9-4250-ae40-f578d1895ac4"
      },
      "source": [
        "#tf*idf\n",
        "score_model_pipeline(model1, unigram_tfidf_vectorizer,X_train,y_train)"
      ],
      "execution_count": 26,
      "outputs": [
        {
          "output_type": "stream",
          "text": [
            "Avg Score: 0.5804910652230147\n"
          ],
          "name": "stdout"
        }
      ]
    },
    {
      "cell_type": "code",
      "metadata": {
        "id": "9wuaFsqdaWNB",
        "colab_type": "code",
        "colab": {
          "base_uri": "https://localhost:8080/",
          "height": 35
        },
        "outputId": "ddc4d053-e5ef-4616-b322-1f269e6c14d6"
      },
      "source": [
        "## model 2 \n",
        "model2 =  BernoulliNB()\n",
        "\n",
        "score_model_pipeline(model2, unigram_bool_vectorizer,X_train,y_train)"
      ],
      "execution_count": 27,
      "outputs": [
        {
          "output_type": "stream",
          "text": [
            "Avg Score: 0.5974991184292984\n"
          ],
          "name": "stdout"
        }
      ]
    },
    {
      "cell_type": "code",
      "metadata": {
        "id": "jJu6qjduasXh",
        "colab_type": "code",
        "colab": {
          "base_uri": "https://localhost:8080/",
          "height": 35
        },
        "outputId": "d10d1e35-1f1c-4cc9-e4d0-85eeeb287475"
      },
      "source": [
        "# count vectorizer\n",
        "\n",
        "score_model_pipeline(model2, unigram_count_vectorizer,X_train,y_train)"
      ],
      "execution_count": 28,
      "outputs": [
        {
          "output_type": "stream",
          "text": [
            "Avg Score: 0.5974991184292984\n"
          ],
          "name": "stdout"
        }
      ]
    },
    {
      "cell_type": "code",
      "metadata": {
        "id": "I8gmkMhPa0-0",
        "colab_type": "code",
        "colab": {
          "base_uri": "https://localhost:8080/",
          "height": 35
        },
        "outputId": "464bc930-bf73-406a-f0d8-97738869b0e6"
      },
      "source": [
        "#ngram\n",
        "score_model_pipeline(model2, gram12_count_vectorizer,X_train,y_train)"
      ],
      "execution_count": 29,
      "outputs": [
        {
          "output_type": "stream",
          "text": [
            "Avg Score: 0.5824500562848445\n"
          ],
          "name": "stdout"
        }
      ]
    },
    {
      "cell_type": "code",
      "metadata": {
        "id": "B1_TP9dNa6fd",
        "colab_type": "code",
        "colab": {
          "base_uri": "https://localhost:8080/",
          "height": 35
        },
        "outputId": "42617c06-6105-4092-8686-1c0994d590c7"
      },
      "source": [
        "#tf*idf\n",
        "score_model_pipeline(model2, unigram_tfidf_vectorizer,X_train,y_train)"
      ],
      "execution_count": 30,
      "outputs": [
        {
          "output_type": "stream",
          "text": [
            "Avg Score: 0.5974991184292984\n"
          ],
          "name": "stdout"
        }
      ]
    },
    {
      "cell_type": "code",
      "metadata": {
        "id": "6fpWurdWbBGF",
        "colab_type": "code",
        "colab": {}
      },
      "source": [
        "from sklearn.feature_extraction.text import CountVectorizer\n",
        "import nltk.stem\n",
        "\n",
        "english_stemmer = nltk.stem.SnowballStemmer('english')\n",
        "class StemmedCountVectorizer(CountVectorizer):\n",
        "    def build_analyzer(self):\n",
        "        analyzer = super(StemmedCountVectorizer, self).build_analyzer()\n",
        "        return lambda doc: ([english_stemmer.stem(w) for w in analyzer(doc)])"
      ],
      "execution_count": 0,
      "outputs": []
    },
    {
      "cell_type": "code",
      "metadata": {
        "id": "Agz_hnMhbjk6",
        "colab_type": "code",
        "colab": {
          "base_uri": "https://localhost:8080/",
          "height": 35
        },
        "outputId": "da72c49b-01b0-45f2-fb2f-062288495aed"
      },
      "source": [
        "stem_vecs = StemmedCountVectorizer(min_df=3, analyzer=\"word\")\n",
        "\n",
        "stem_X_train = stem_vecs.fit_transform(X_train)\n",
        "\n",
        "model1.fit(stem_X_train, y_train)\n",
        "\n",
        "stem_test = stem_vecs.transform(X_test)\n",
        "\n",
        "model1.score(stem_test, y_test)"
      ],
      "execution_count": 32,
      "outputs": [
        {
          "output_type": "execute_result",
          "data": {
            "text/plain": [
              "0.6138878209235764"
            ]
          },
          "metadata": {
            "tags": []
          },
          "execution_count": 32
        }
      ]
    },
    {
      "cell_type": "code",
      "metadata": {
        "id": "q5mano0pcwa3",
        "colab_type": "code",
        "colab": {}
      },
      "source": [
        "\n",
        "kaggle_stem_test = stem_vecs.transform(test['Phrase'].values)\n",
        "\n",
        "prediction_stem = model1.predict(kaggle_stem_test)\n",
        "\n",
        "\n",
        "kaggle_submission_stem=zip(test['PhraseId'].values, prediction_stem)\n",
        "\n",
        "# prepare output file\n",
        "outf=open('./kaggle-sentiment/kaggle_submission.csv', 'w')\n",
        "\n",
        "# write header\n",
        "outf.write('PhraseId,Sentiment\\n')\n",
        "\n",
        "# write predictions with ids to the output file\n",
        "for x, value in enumerate(kaggle_submission_stem):\n",
        "    outf.write(str(value[0]) + ',' + str(value[1]) + '\\n')\n",
        "\n",
        "# close the output file\n",
        "outf.close()\n"
      ],
      "execution_count": 0,
      "outputs": []
    },
    {
      "cell_type": "code",
      "metadata": {
        "id": "yQOlsqp2eFvz",
        "colab_type": "code",
        "colab": {}
      },
      "source": [
        ""
      ],
      "execution_count": 0,
      "outputs": []
    }
  ]
}