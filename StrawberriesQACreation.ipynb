{
  "nbformat": 4,
  "nbformat_minor": 0,
  "metadata": {
    "colab": {
      "name": "StrawberriesQACreation.ipynb",
      "version": "0.3.2",
      "provenance": [],
      "collapsed_sections": [],
      "include_colab_link": true
    },
    "kernelspec": {
      "name": "python3",
      "display_name": "Python 3"
    }
  },
  "cells": [
    {
      "cell_type": "markdown",
      "metadata": {
        "id": "view-in-github",
        "colab_type": "text"
      },
      "source": [
        "<a href=\"https://colab.research.google.com/github/toraaglobal/Case_Studies/blob/master/StrawberriesQACreation.ipynb\" target=\"_parent\"><img src=\"https://colab.research.google.com/assets/colab-badge.svg\" alt=\"Open In Colab\"/></a>"
      ]
    },
    {
      "cell_type": "code",
      "metadata": {
        "id": "AYeXUeczsbb8",
        "colab_type": "code",
        "colab": {}
      },
      "source": [
        "# BASED ON EXAMPLE FROM STACKEXCHANGE - JahKnows (2018)\n",
        "import numpy as np\n",
        "import pandas as pd\n",
        "\n",
        "from mpl_toolkits.mplot3d import Axes3D\n",
        "import matplotlib.pyplot as plt"
      ],
      "execution_count": 0,
      "outputs": []
    },
    {
      "cell_type": "code",
      "metadata": {
        "id": "b8K6YzDmsmS1",
        "colab_type": "code",
        "colab": {}
      },
      "source": [
        "# OBTAIN - OR RATHER CREATE SAMPLES BASED ON COLTON TEST DATA\n",
        "\n",
        "# Number of Samples\n",
        "n = 100000\n",
        "\n",
        "data = []\n",
        "for i in range(n):\n",
        "    temp = {}\n",
        "    \n",
        "    # RANDOM NORMAL BASED ON COLTON - MEAN = 34  VARIANCE = 3\n",
        "    temp.update({'temperature': np.random.normal(34, 3)})\n",
        "    \n",
        "    # GET A COLOR\n",
        "    color = 'red'\n",
        "    color_random_value = np.random.randint(0,10)\n",
        "    if color_random_value == 8:\n",
        "        color = 'yellow'\n",
        "    elif color_random_value == 9:\n",
        "        color = 'green'\n",
        "    temp.update({'color': color})\n",
        "    \n",
        "    # Get a random normally distributed moisture mean=96 and variance=2\n",
        "    temp.update({'moisture': np.random.normal(96, 2)})\n",
        "\n",
        "    # Verify if the instance is edible (label=0) or not (label=1)\n",
        "    label = 0\n",
        "    if temp['temperature'] < 31 or temp['temperature'] > 37:\n",
        "        label = 1\n",
        "    elif temp['color'] != 'red':\n",
        "        label = 1\n",
        "    elif temp['moisture'] < 94 or temp['moisture'] > 98:\n",
        "        label = 1\n",
        "    temp.update({'label': label})\n",
        "\n",
        "    data.append(temp)\n",
        "    \n",
        "    "
      ],
      "execution_count": 0,
      "outputs": []
    },
    {
      "cell_type": "code",
      "metadata": {
        "id": "giV1xRWq3aN6",
        "colab_type": "code",
        "outputId": "2ce0253d-6640-470c-b798-0b4f6184e52a",
        "colab": {
          "base_uri": "https://localhost:8080/",
          "height": 194
        }
      },
      "source": [
        "df = pd.DataFrame(data=data)\n",
        "df.head()"
      ],
      "execution_count": 3,
      "outputs": [
        {
          "output_type": "execute_result",
          "data": {
            "text/html": [
              "<div>\n",
              "<style scoped>\n",
              "    .dataframe tbody tr th:only-of-type {\n",
              "        vertical-align: middle;\n",
              "    }\n",
              "\n",
              "    .dataframe tbody tr th {\n",
              "        vertical-align: top;\n",
              "    }\n",
              "\n",
              "    .dataframe thead th {\n",
              "        text-align: right;\n",
              "    }\n",
              "</style>\n",
              "<table border=\"1\" class=\"dataframe\">\n",
              "  <thead>\n",
              "    <tr style=\"text-align: right;\">\n",
              "      <th></th>\n",
              "      <th>color</th>\n",
              "      <th>label</th>\n",
              "      <th>moisture</th>\n",
              "      <th>temperature</th>\n",
              "    </tr>\n",
              "  </thead>\n",
              "  <tbody>\n",
              "    <tr>\n",
              "      <th>0</th>\n",
              "      <td>red</td>\n",
              "      <td>1</td>\n",
              "      <td>93.494560</td>\n",
              "      <td>36.044491</td>\n",
              "    </tr>\n",
              "    <tr>\n",
              "      <th>1</th>\n",
              "      <td>green</td>\n",
              "      <td>1</td>\n",
              "      <td>95.751958</td>\n",
              "      <td>28.348560</td>\n",
              "    </tr>\n",
              "    <tr>\n",
              "      <th>2</th>\n",
              "      <td>yellow</td>\n",
              "      <td>1</td>\n",
              "      <td>96.484288</td>\n",
              "      <td>39.183471</td>\n",
              "    </tr>\n",
              "    <tr>\n",
              "      <th>3</th>\n",
              "      <td>red</td>\n",
              "      <td>1</td>\n",
              "      <td>96.004668</td>\n",
              "      <td>26.737387</td>\n",
              "    </tr>\n",
              "    <tr>\n",
              "      <th>4</th>\n",
              "      <td>red</td>\n",
              "      <td>1</td>\n",
              "      <td>98.499694</td>\n",
              "      <td>32.796090</td>\n",
              "    </tr>\n",
              "  </tbody>\n",
              "</table>\n",
              "</div>"
            ],
            "text/plain": [
              "    color  label   moisture  temperature\n",
              "0     red      1  93.494560    36.044491\n",
              "1   green      1  95.751958    28.348560\n",
              "2  yellow      1  96.484288    39.183471\n",
              "3     red      1  96.004668    26.737387\n",
              "4     red      1  98.499694    32.796090"
            ]
          },
          "metadata": {
            "tags": []
          },
          "execution_count": 3
        }
      ]
    },
    {
      "cell_type": "code",
      "metadata": {
        "id": "PNL9Gt8I4jSR",
        "colab_type": "code",
        "colab": {}
      },
      "source": [
        "# SCRUB\n",
        "\n",
        "df['color_codes'] =df['color'].astype('category').cat.codes\n"
      ],
      "execution_count": 0,
      "outputs": []
    },
    {
      "cell_type": "code",
      "metadata": {
        "id": "LJvuSdVR5Y_T",
        "colab_type": "code",
        "colab": {}
      },
      "source": [
        "# SCRUB\n",
        "\n",
        "X = np.asarray(df[['color_codes', 'moisture', 'temperature']])\n",
        "y = np.asarray(df['label'])"
      ],
      "execution_count": 0,
      "outputs": []
    },
    {
      "cell_type": "code",
      "metadata": {
        "id": "CLCx0NRY5kjK",
        "colab_type": "code",
        "outputId": "0846f6f2-f90b-4194-98f6-79c0b998f83d",
        "colab": {
          "base_uri": "https://localhost:8080/",
          "height": 248
        }
      },
      "source": [
        "fig = plt.figure()\n",
        "ax = fig.add_subplot(111, projection='3d')\n",
        "\n",
        "ax.scatter(X[:,0], X[:,1], X[:,2], c=y)\n",
        "\n",
        "ax.set_xlabel('Color')\n",
        "ax.set_ylabel('Moisture')\n",
        "ax.set_zlabel('Temperature')\n",
        "\n",
        "plt.show()"
      ],
      "execution_count": 6,
      "outputs": [
        {
          "output_type": "display_data",
          "data": {
            "image/png": "[encoded data removed]",
            "text/plain": [
              "<Figure size 432x288 with 1 Axes>"
            ]
          },
          "metadata": {
            "tags": []
          }
        }
      ]
    },
    {
      "cell_type": "code",
      "metadata": {
        "id": "49jb0-KG5dnS",
        "colab_type": "code",
        "colab": {}
      },
      "source": [
        "from sklearn.model_selection import train_test_split\n",
        "\n",
        "X_train, X_test, y_train, y_test = train_test_split(X, y, test_size=0.33)"
      ],
      "execution_count": 0,
      "outputs": []
    },
    {
      "cell_type": "code",
      "metadata": {
        "id": "reO6716G5sEq",
        "colab_type": "code",
        "outputId": "b0f30359-0bda-4bf1-a301-d91ad1aad051",
        "colab": {
          "base_uri": "https://localhost:8080/",
          "height": 295
        }
      },
      "source": [
        "n_classes = 2\n",
        "\n",
        "training_counts = [None] * n_classes \n",
        "testing_counts = [None] * n_classes\n",
        "for i in range(n_classes):\n",
        "    training_counts[i] = len(y_train[y_train == i])/len(y_train)\n",
        "    testing_counts[i] = len(y_test[y_test == i])/len(y_test)\n",
        "\n",
        "# the histogram of the data\n",
        "train_bar = plt.bar(np.arange(n_classes)-0.2, training_counts, align='center', color = 'r', alpha=0.75, width = 0.41, label='Training')\n",
        "test_bar = plt.bar(np.arange(n_classes)+0.2, testing_counts, align='center', color = 'b', alpha=0.75, width = 0.41, label = 'Testing')\n",
        "\n",
        "plt.xlabel('Labels')\n",
        "plt.xticks((0,1))\n",
        "plt.ylabel('Count (%)')\n",
        "plt.title('Label distribution in the training and test set')\n",
        "plt.legend(bbox_to_anchor=(1.05, 1), handles=[train_bar, test_bar], loc=2)\n",
        "plt.grid(True)\n",
        "plt.show()"
      ],
      "execution_count": 8,
      "outputs": [
        {
          "output_type": "display_data",
          "data": {
            "image/png": "[encoded data removed]",
            "text/plain": [
              "<Figure size 432x288 with 1 Axes>"
            ]
          },
          "metadata": {
            "tags": []
          }
        }
      ]
    },
    {
      "cell_type": "code",
      "metadata": {
        "id": "ePtV9KYq5zhB",
        "colab_type": "code",
        "outputId": "8fb780b0-f96d-489a-8046-29971f63e36a",
        "colab": {
          "base_uri": "https://localhost:8080/",
          "height": 90
        }
      },
      "source": [
        "# MODEL BUILD - LINEAR\n",
        "\n",
        "from sklearn import linear_model\n",
        "clf = linear_model.SGDClassifier(max_iter=1000)\n",
        "clf.fit(X_train, y_train)\n",
        "clf.score(X_test, y_test)"
      ],
      "execution_count": 9,
      "outputs": [
        {
          "output_type": "stream",
          "text": [
            "/usr/local/lib/python3.6/dist-packages/sklearn/linear_model/stochastic_gradient.py:183: FutureWarning: max_iter and tol parameters have been added in SGDClassifier in 0.19. If max_iter is set but tol is left unset, the default value for tol in 0.19 and 0.20 will be None (which is equivalent to -infinity, so it has no effect) but will change in 0.21 to 1e-3. Specify tol to silence this warning.\n",
            "  FutureWarning)\n"
          ],
          "name": "stderr"
        },
        {
          "output_type": "execute_result",
          "data": {
            "text/plain": [
              "0.6262727272727273"
            ]
          },
          "metadata": {
            "tags": []
          },
          "execution_count": 9
        }
      ]
    },
    {
      "cell_type": "code",
      "metadata": {
        "id": "QnNs-TC_58Sa",
        "colab_type": "code",
        "outputId": "f4e93678-3c9d-4e1b-a555-3f0bb28680e5",
        "colab": {
          "base_uri": "https://localhost:8080/",
          "height": 90
        }
      },
      "source": [
        "# MODEL BUILD - SUPPORT VECTOR\n",
        "\n",
        "from sklearn.svm import SVC\n",
        "clf = SVC()\n",
        "clf.fit(X_train, y_train)\n",
        "clf.score(X_test, y_test)"
      ],
      "execution_count": 10,
      "outputs": [
        {
          "output_type": "stream",
          "text": [
            "/usr/local/lib/python3.6/dist-packages/sklearn/svm/base.py:196: FutureWarning: The default value of gamma will change from 'auto' to 'scale' in version 0.22 to account better for unscaled features. Set gamma explicitly to 'auto' or 'scale' to avoid this warning.\n",
            "  \"avoid this warning.\", FutureWarning)\n"
          ],
          "name": "stderr"
        },
        {
          "output_type": "execute_result",
          "data": {
            "text/plain": [
              "0.9943030303030304"
            ]
          },
          "metadata": {
            "tags": []
          },
          "execution_count": 10
        }
      ]
    },
    {
      "cell_type": "code",
      "metadata": {
        "id": "pfkor84H5_IS",
        "colab_type": "code",
        "outputId": "ae5fb288-a57e-43d0-82af-9e218f237f4c",
        "colab": {
          "base_uri": "https://localhost:8080/",
          "height": 35
        }
      },
      "source": [
        "# MODEL BUILD - K-Nearest Neighbors\n",
        "\n",
        "from sklearn.neighbors import KNeighborsClassifier\n",
        "neigh = KNeighborsClassifier(n_neighbors=3)\n",
        "neigh.fit(X_train, y_train)\n",
        "neigh.score(X_test, y_test)"
      ],
      "execution_count": 11,
      "outputs": [
        {
          "output_type": "execute_result",
          "data": {
            "text/plain": [
              "0.9968484848484849"
            ]
          },
          "metadata": {
            "tags": []
          },
          "execution_count": 11
        }
      ]
    },
    {
      "cell_type": "code",
      "metadata": {
        "id": "amh-7-qd6CHj",
        "colab_type": "code",
        "outputId": "fa584d61-358a-4666-9855-44b67e370c23",
        "colab": {
          "base_uri": "https://localhost:8080/",
          "height": 35
        }
      },
      "source": [
        "# MODEL BUILD - RANDOM FORESTS\n",
        "\n",
        "from sklearn.ensemble import RandomForestClassifier \n",
        "\n",
        "forest = RandomForestClassifier(n_estimators = 100)\n",
        "forest.fit(X_train, y_train)\n",
        "print('Score: ', forest.score(X_test, y_test))\n",
        "predictions = forest.predict(X_test)"
      ],
      "execution_count": 12,
      "outputs": [
        {
          "output_type": "stream",
          "text": [
            "Score:  1.0\n"
          ],
          "name": "stdout"
        }
      ]
    },
    {
      "cell_type": "code",
      "metadata": {
        "id": "TeVpQo64A_Aq",
        "colab_type": "code",
        "colab": {}
      },
      "source": [
        ""
      ],
      "execution_count": 0,
      "outputs": []
    }
  ]
}