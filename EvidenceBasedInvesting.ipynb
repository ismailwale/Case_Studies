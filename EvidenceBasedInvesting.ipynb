{
  "nbformat": 4,
  "nbformat_minor": 0,
  "metadata": {
    "colab": {
      "name": "EvidenceBasedInvesting.ipynb",
      "version": "0.3.2",
      "provenance": [],
      "collapsed_sections": [],
      "include_colab_link": true
    },
    "kernelspec": {
      "name": "python3",
      "display_name": "Python 3"
    }
  },
  "cells": [
    {
      "cell_type": "markdown",
      "metadata": {
        "id": "view-in-github",
        "colab_type": "text"
      },
      "source": [
        "<a href=\"https://colab.research.google.com/github/toraaglobal/Case_Studies/blob/master/EvidenceBasedInvesting.ipynb\" target=\"_parent\"><img src=\"https://colab.research.google.com/assets/colab-badge.svg\" alt=\"Open In Colab\"/></a>"
      ]
    },
    {
      "cell_type": "markdown",
      "metadata": {
        "id": "jAVh5Y-DLPgq",
        "colab_type": "text"
      },
      "source": [
        "Based on the Monte Carlo Simulation notebook developed by Matt Macarty\n"
      ]
    },
    {
      "cell_type": "code",
      "metadata": {
        "id": "Ot7AI1jLKzQ3",
        "colab_type": "code",
        "colab": {}
      },
      "source": [
        "# Install base libraries\n",
        "\n",
        "import numpy as np\n",
        "from pandas import Series, DataFrame\n",
        "%matplotlib inline\n",
        "import matplotlib.pyplot as plots\n",
        "from babel.numbers import format_currency\n",
        "\n",
        "plots.style.use('fivethirtyeight')\n"
      ],
      "execution_count": 0,
      "outputs": []
    },
    {
      "cell_type": "code",
      "metadata": {
        "id": "VAOtrdwcNn_g",
        "colab_type": "code",
        "outputId": "10db7b0c-7a3c-4eab-d5bd-e33f0d347033",
        "colab": {
          "base_uri": "https://localhost:8080/",
          "height": 550
        }
      },
      "source": [
        "# OBTAIN - Build Base Investment and Calculate Growth\n",
        "\n",
        "pv = 10000\n",
        "time_horizon = 30\n",
        "i =.07\n",
        "additions = 10000\n",
        "\n",
        "for year in range(time_horizon):\n",
        "    ending = pv * (1+i) + additions\n",
        "    print(format_currency(ending, 'USD'))\n",
        "    pv = ending"
      ],
      "execution_count": 0,
      "outputs": [
        {
          "output_type": "stream",
          "text": [
            "$20,700.00\n",
            "$32,149.00\n",
            "$44,399.43\n",
            "$57,507.39\n",
            "$71,532.91\n",
            "$86,540.21\n",
            "$102,598.03\n",
            "$119,779.89\n",
            "$138,164.48\n",
            "$157,835.99\n",
            "$178,884.51\n",
            "$201,406.43\n",
            "$225,504.88\n",
            "$251,290.22\n",
            "$278,880.54\n",
            "$308,402.17\n",
            "$339,990.33\n",
            "$373,789.65\n",
            "$409,954.92\n",
            "$448,651.77\n",
            "$490,057.39\n",
            "$534,361.41\n",
            "$581,766.71\n",
            "$632,490.38\n",
            "$686,764.70\n",
            "$744,838.23\n",
            "$806,976.91\n",
            "$873,465.29\n",
            "$944,607.86\n",
            "$1,020,730.41\n"
          ],
          "name": "stdout"
        }
      ]
    },
    {
      "cell_type": "code",
      "metadata": {
        "id": "spt0H7_UOZL4",
        "colab_type": "code",
        "outputId": "a67840be-6b46-421a-d3b4-a53f0a3cbbd5",
        "colab": {
          "base_uri": "https://localhost:8080/",
          "height": 568
        }
      },
      "source": [
        "# OBTAIN - Using random variation based on market history - 7.10% - S&P 500\n",
        "\n",
        "\n",
        "pv = 10000\n",
        "expected_return = .071\n",
        "volatility = .10\n",
        "time_horizon = 30\n",
        "annual_addition = 10000\n",
        "\n",
        "#print(\"\\tEnding Value\".rjust(9))\n",
        "print(\"\\tReturn\", \"\\t\\tEnding Value\".rjust(18))\n",
        "for year in range(time_horizon):\n",
        "    market_return = np.random.normal(expected_return, volatility)\n",
        "    fv = pv * (1 + market_return) + annual_addition\n",
        "    print(\"\\t{}\".ljust(10).format(round(market_return,4)), \"\\t{}\".rjust(10).format(format_currency(fv, 'USD')))\n",
        "    #print(format_currency(fv, 'USD') )\n",
        "    pv = fv"
      ],
      "execution_count": 0,
      "outputs": [
        {
          "output_type": "stream",
          "text": [
            "\tReturn     \t\tEnding Value\n",
            "\t-0.0117               \t$19,883.32\n",
            "\t0.2698               \t$35,246.86\n",
            "\t0.1692               \t$51,208.96\n",
            "\t-0.0004               \t$61,188.00\n",
            "\t0.1323               \t$79,284.20\n",
            "\t-0.102               \t$81,194.59\n",
            "\t0.0884               \t$98,375.13\n",
            "\t0.0191               \t$110,250.64\n",
            "\t0.049               \t$125,648.28\n",
            "\t0.0628               \t$143,539.38\n",
            "\t-0.0128               \t$151,705.31\n",
            "\t0.1481               \t$184,171.64\n",
            "\t-0.0666               \t$181,903.94\n",
            "\t0.2573               \t$238,714.14\n",
            "\t-0.0574               \t$235,004.49\n",
            "\t0.1945               \t$290,722.41\n",
            "\t0.0013               \t$301,108.40\n",
            "\t-0.059               \t$293,335.35\n",
            "\t0.2125               \t$365,656.77\n",
            "\t0.1197               \t$419,434.90\n",
            "\t0.0479               \t$449,534.79\n",
            "\t0.0114               \t$464,646.47\n",
            "\t-0.0913               \t$432,209.67\n",
            "\t-0.1308               \t$385,668.51\n",
            "\t0.0601               \t$418,862.51\n",
            "\t-0.0142               \t$422,899.11\n",
            "\t0.071               \t$462,924.29\n",
            "\t-0.0896               \t$431,459.67\n",
            "\t-0.0119               \t$436,309.15\n",
            "\t0.0076               \t$449,609.58\n"
          ],
          "name": "stdout"
        }
      ]
    },
    {
      "cell_type": "code",
      "metadata": {
        "id": "snYB_SaxLXfb",
        "colab_type": "code",
        "colab": {}
      },
      "source": [
        "# MODEL - Simulate Multiple Outcomes\n",
        "\n",
        "sim = DataFrame()\n",
        "iterations = 5000\n",
        "\n",
        "\n",
        "for x in range(iterations):\n",
        "    expected_return = .071 # Return of S&P 500 - 10 year avg\n",
        "    volatility = .15 # Frequency and severity that market price fluctuates\n",
        "    time_horizon = 30\n",
        "    pv = 10000\n",
        "    annual_investment = 10000\n",
        "    stream = []\n",
        "    for i in range(time_horizon):\n",
        "        end = round(pv * (1 + np.random.normal(expected_return,volatility)) + annual_investment,2)\n",
        "        \n",
        "        stream.append(end)\n",
        "\n",
        "        pv = end\n",
        "\n",
        "    \n",
        "    sim[x] = stream"
      ],
      "execution_count": 0,
      "outputs": []
    },
    {
      "cell_type": "code",
      "metadata": {
        "id": "SMrs_2AELoEZ",
        "colab_type": "code",
        "outputId": "5b5a9028-5d39-40fd-ec23-6f1b314a5cae",
        "colab": {
          "base_uri": "https://localhost:8080/",
          "height": 927
        }
      },
      "source": [
        "# EXPLORE  - Look at sample of annual ending values\n",
        "\n",
        "first_five = list(range(5))\n",
        "sim[first_five]\n"
      ],
      "execution_count": 0,
      "outputs": [
        {
          "output_type": "execute_result",
          "data": {
            "text/html": [
              "<div>\n",
              "<style scoped>\n",
              "    .dataframe tbody tr th:only-of-type {\n",
              "        vertical-align: middle;\n",
              "    }\n",
              "\n",
              "    .dataframe tbody tr th {\n",
              "        vertical-align: top;\n",
              "    }\n",
              "\n",
              "    .dataframe thead th {\n",
              "        text-align: right;\n",
              "    }\n",
              "</style>\n",
              "<table border=\"1\" class=\"dataframe\">\n",
              "  <thead>\n",
              "    <tr style=\"text-align: right;\">\n",
              "      <th></th>\n",
              "      <th>0</th>\n",
              "      <th>1</th>\n",
              "      <th>2</th>\n",
              "      <th>3</th>\n",
              "      <th>4</th>\n",
              "    </tr>\n",
              "  </thead>\n",
              "  <tbody>\n",
              "    <tr>\n",
              "      <th>0</th>\n",
              "      <td>19877.70</td>\n",
              "      <td>18909.78</td>\n",
              "      <td>21823.52</td>\n",
              "      <td>23651.12</td>\n",
              "      <td>20614.96</td>\n",
              "    </tr>\n",
              "    <tr>\n",
              "      <th>1</th>\n",
              "      <td>34074.45</td>\n",
              "      <td>36392.40</td>\n",
              "      <td>34353.24</td>\n",
              "      <td>31976.45</td>\n",
              "      <td>36926.66</td>\n",
              "    </tr>\n",
              "    <tr>\n",
              "      <th>2</th>\n",
              "      <td>49746.11</td>\n",
              "      <td>38762.54</td>\n",
              "      <td>50104.06</td>\n",
              "      <td>38720.22</td>\n",
              "      <td>48483.76</td>\n",
              "    </tr>\n",
              "    <tr>\n",
              "      <th>3</th>\n",
              "      <td>58333.63</td>\n",
              "      <td>46177.18</td>\n",
              "      <td>60731.23</td>\n",
              "      <td>48921.04</td>\n",
              "      <td>71598.22</td>\n",
              "    </tr>\n",
              "    <tr>\n",
              "      <th>4</th>\n",
              "      <td>78937.80</td>\n",
              "      <td>53106.79</td>\n",
              "      <td>74835.51</td>\n",
              "      <td>78784.51</td>\n",
              "      <td>92371.05</td>\n",
              "    </tr>\n",
              "    <tr>\n",
              "      <th>5</th>\n",
              "      <td>95774.81</td>\n",
              "      <td>62545.60</td>\n",
              "      <td>102448.44</td>\n",
              "      <td>103005.24</td>\n",
              "      <td>106038.74</td>\n",
              "    </tr>\n",
              "    <tr>\n",
              "      <th>6</th>\n",
              "      <td>118476.36</td>\n",
              "      <td>63078.36</td>\n",
              "      <td>117004.28</td>\n",
              "      <td>157941.98</td>\n",
              "      <td>124779.42</td>\n",
              "    </tr>\n",
              "    <tr>\n",
              "      <th>7</th>\n",
              "      <td>153174.89</td>\n",
              "      <td>82401.21</td>\n",
              "      <td>116339.38</td>\n",
              "      <td>168770.86</td>\n",
              "      <td>108845.79</td>\n",
              "    </tr>\n",
              "    <tr>\n",
              "      <th>8</th>\n",
              "      <td>143380.32</td>\n",
              "      <td>76796.74</td>\n",
              "      <td>110159.44</td>\n",
              "      <td>207204.91</td>\n",
              "      <td>147076.78</td>\n",
              "    </tr>\n",
              "    <tr>\n",
              "      <th>9</th>\n",
              "      <td>143822.37</td>\n",
              "      <td>98639.56</td>\n",
              "      <td>120342.24</td>\n",
              "      <td>255422.12</td>\n",
              "      <td>119316.37</td>\n",
              "    </tr>\n",
              "    <tr>\n",
              "      <th>10</th>\n",
              "      <td>169510.32</td>\n",
              "      <td>108171.80</td>\n",
              "      <td>150321.98</td>\n",
              "      <td>284289.53</td>\n",
              "      <td>124103.07</td>\n",
              "    </tr>\n",
              "    <tr>\n",
              "      <th>11</th>\n",
              "      <td>147357.47</td>\n",
              "      <td>126110.74</td>\n",
              "      <td>182655.57</td>\n",
              "      <td>264935.00</td>\n",
              "      <td>141022.58</td>\n",
              "    </tr>\n",
              "    <tr>\n",
              "      <th>12</th>\n",
              "      <td>186894.43</td>\n",
              "      <td>159950.53</td>\n",
              "      <td>192108.07</td>\n",
              "      <td>288564.34</td>\n",
              "      <td>177236.00</td>\n",
              "    </tr>\n",
              "    <tr>\n",
              "      <th>13</th>\n",
              "      <td>199797.88</td>\n",
              "      <td>144108.23</td>\n",
              "      <td>275106.06</td>\n",
              "      <td>266889.81</td>\n",
              "      <td>194774.92</td>\n",
              "    </tr>\n",
              "    <tr>\n",
              "      <th>14</th>\n",
              "      <td>186372.83</td>\n",
              "      <td>180259.34</td>\n",
              "      <td>224208.25</td>\n",
              "      <td>261498.99</td>\n",
              "      <td>191271.33</td>\n",
              "    </tr>\n",
              "    <tr>\n",
              "      <th>15</th>\n",
              "      <td>198314.71</td>\n",
              "      <td>259354.48</td>\n",
              "      <td>212710.39</td>\n",
              "      <td>343006.30</td>\n",
              "      <td>213678.06</td>\n",
              "    </tr>\n",
              "    <tr>\n",
              "      <th>16</th>\n",
              "      <td>210686.27</td>\n",
              "      <td>301511.03</td>\n",
              "      <td>231584.44</td>\n",
              "      <td>388740.08</td>\n",
              "      <td>232732.65</td>\n",
              "    </tr>\n",
              "    <tr>\n",
              "      <th>17</th>\n",
              "      <td>221210.56</td>\n",
              "      <td>337004.23</td>\n",
              "      <td>225897.37</td>\n",
              "      <td>434167.29</td>\n",
              "      <td>226377.95</td>\n",
              "    </tr>\n",
              "    <tr>\n",
              "      <th>18</th>\n",
              "      <td>250158.15</td>\n",
              "      <td>395993.46</td>\n",
              "      <td>222495.54</td>\n",
              "      <td>532742.27</td>\n",
              "      <td>219382.35</td>\n",
              "    </tr>\n",
              "    <tr>\n",
              "      <th>19</th>\n",
              "      <td>307354.81</td>\n",
              "      <td>380072.21</td>\n",
              "      <td>261181.56</td>\n",
              "      <td>613051.94</td>\n",
              "      <td>228060.41</td>\n",
              "    </tr>\n",
              "    <tr>\n",
              "      <th>20</th>\n",
              "      <td>328033.79</td>\n",
              "      <td>368927.21</td>\n",
              "      <td>327701.45</td>\n",
              "      <td>709665.84</td>\n",
              "      <td>205103.33</td>\n",
              "    </tr>\n",
              "    <tr>\n",
              "      <th>21</th>\n",
              "      <td>372892.66</td>\n",
              "      <td>305005.13</td>\n",
              "      <td>404924.71</td>\n",
              "      <td>641571.02</td>\n",
              "      <td>227780.15</td>\n",
              "    </tr>\n",
              "    <tr>\n",
              "      <th>22</th>\n",
              "      <td>353300.33</td>\n",
              "      <td>404848.09</td>\n",
              "      <td>454994.56</td>\n",
              "      <td>810067.65</td>\n",
              "      <td>294623.44</td>\n",
              "    </tr>\n",
              "    <tr>\n",
              "      <th>23</th>\n",
              "      <td>399416.28</td>\n",
              "      <td>436094.24</td>\n",
              "      <td>372704.63</td>\n",
              "      <td>899940.58</td>\n",
              "      <td>323538.63</td>\n",
              "    </tr>\n",
              "    <tr>\n",
              "      <th>24</th>\n",
              "      <td>512306.77</td>\n",
              "      <td>532300.25</td>\n",
              "      <td>351259.68</td>\n",
              "      <td>852895.98</td>\n",
              "      <td>371281.39</td>\n",
              "    </tr>\n",
              "    <tr>\n",
              "      <th>25</th>\n",
              "      <td>540301.08</td>\n",
              "      <td>461000.44</td>\n",
              "      <td>385176.80</td>\n",
              "      <td>1003352.44</td>\n",
              "      <td>416228.03</td>\n",
              "    </tr>\n",
              "    <tr>\n",
              "      <th>26</th>\n",
              "      <td>528734.53</td>\n",
              "      <td>518998.06</td>\n",
              "      <td>493538.46</td>\n",
              "      <td>903046.90</td>\n",
              "      <td>477386.99</td>\n",
              "    </tr>\n",
              "    <tr>\n",
              "      <th>27</th>\n",
              "      <td>371636.20</td>\n",
              "      <td>549202.41</td>\n",
              "      <td>599509.85</td>\n",
              "      <td>936682.01</td>\n",
              "      <td>431527.09</td>\n",
              "    </tr>\n",
              "    <tr>\n",
              "      <th>28</th>\n",
              "      <td>298343.45</td>\n",
              "      <td>725322.53</td>\n",
              "      <td>599701.54</td>\n",
              "      <td>895471.96</td>\n",
              "      <td>474645.39</td>\n",
              "    </tr>\n",
              "    <tr>\n",
              "      <th>29</th>\n",
              "      <td>318092.98</td>\n",
              "      <td>804256.39</td>\n",
              "      <td>793925.53</td>\n",
              "      <td>1104714.26</td>\n",
              "      <td>521593.85</td>\n",
              "    </tr>\n",
              "  </tbody>\n",
              "</table>\n",
              "</div>"
            ],
            "text/plain": [
              "            0          1          2           3          4\n",
              "0    19877.70   18909.78   21823.52    23651.12   20614.96\n",
              "1    34074.45   36392.40   34353.24    31976.45   36926.66\n",
              "2    49746.11   38762.54   50104.06    38720.22   48483.76\n",
              "3    58333.63   46177.18   60731.23    48921.04   71598.22\n",
              "4    78937.80   53106.79   74835.51    78784.51   92371.05\n",
              "5    95774.81   62545.60  102448.44   103005.24  106038.74\n",
              "6   118476.36   63078.36  117004.28   157941.98  124779.42\n",
              "7   153174.89   82401.21  116339.38   168770.86  108845.79\n",
              "8   143380.32   76796.74  110159.44   207204.91  147076.78\n",
              "9   143822.37   98639.56  120342.24   255422.12  119316.37\n",
              "10  169510.32  108171.80  150321.98   284289.53  124103.07\n",
              "11  147357.47  126110.74  182655.57   264935.00  141022.58\n",
              "12  186894.43  159950.53  192108.07   288564.34  177236.00\n",
              "13  199797.88  144108.23  275106.06   266889.81  194774.92\n",
              "14  186372.83  180259.34  224208.25   261498.99  191271.33\n",
              "15  198314.71  259354.48  212710.39   343006.30  213678.06\n",
              "16  210686.27  301511.03  231584.44   388740.08  232732.65\n",
              "17  221210.56  337004.23  225897.37   434167.29  226377.95\n",
              "18  250158.15  395993.46  222495.54   532742.27  219382.35\n",
              "19  307354.81  380072.21  261181.56   613051.94  228060.41\n",
              "20  328033.79  368927.21  327701.45   709665.84  205103.33\n",
              "21  372892.66  305005.13  404924.71   641571.02  227780.15\n",
              "22  353300.33  404848.09  454994.56   810067.65  294623.44\n",
              "23  399416.28  436094.24  372704.63   899940.58  323538.63\n",
              "24  512306.77  532300.25  351259.68   852895.98  371281.39\n",
              "25  540301.08  461000.44  385176.80  1003352.44  416228.03\n",
              "26  528734.53  518998.06  493538.46   903046.90  477386.99\n",
              "27  371636.20  549202.41  599509.85   936682.01  431527.09\n",
              "28  298343.45  725322.53  599701.54   895471.96  474645.39\n",
              "29  318092.98  804256.39  793925.53  1104714.26  521593.85"
            ]
          },
          "metadata": {
            "tags": []
          },
          "execution_count": 5
        }
      ]
    },
    {
      "cell_type": "code",
      "metadata": {
        "id": "vLLsR_NwRvEv",
        "colab_type": "code",
        "outputId": "cb9fddd9-1599-48c8-b22a-c0bbcab7420a",
        "colab": {
          "base_uri": "https://localhost:8080/",
          "height": 371
        }
      },
      "source": [
        "# EXPLORE - Plot simulated portfolios\n",
        "\n",
        "plots.plot(sim[first_five])\n"
      ],
      "execution_count": 0,
      "outputs": [
        {
          "output_type": "execute_result",
          "data": {
            "text/plain": [
              "[<matplotlib.lines.Line2D at 0x7fac609083c8>,\n",
              " <matplotlib.lines.Line2D at 0x7fac609085f8>,\n",
              " <matplotlib.lines.Line2D at 0x7fac60908780>,\n",
              " <matplotlib.lines.Line2D at 0x7fac60908908>,\n",
              " <matplotlib.lines.Line2D at 0x7fac60908a90>]"
            ]
          },
          "metadata": {
            "tags": []
          },
          "execution_count": 6
        },
        {
          "output_type": "display_data",
          "data": {
            "image/png": "[encoded data removed]",
            "text/plain": [
              "<Figure size 432x288 with 1 Axes>"
            ]
          },
          "metadata": {
            "tags": []
          }
        }
      ]
    },
    {
      "cell_type": "code",
      "metadata": {
        "id": "zJ5D1ZPSSH6n",
        "colab_type": "code",
        "outputId": "bf58f64d-5289-403f-86a9-6fc070954e27",
        "colab": {
          "base_uri": "https://localhost:8080/",
          "height": 106
        }
      },
      "source": [
        "# EXPLORE - Look at summary statistics\n",
        "\n",
        "\n",
        "print(\"Count:\", len(sim.loc[29]))\n",
        "print(\"Mean: \", format_currency(np.mean(sim.loc[29]), 'USD'))\n",
        "print(\"SD: \",format_currency(np.std(sim.loc[29]),'USD'))\n",
        "print(\"Max: \",format_currency(np.max(sim.loc[29]), 'USD'))\n",
        "print(\"Min: \", format_currency(np.min(sim.loc[29]), 'USD'))"
      ],
      "execution_count": 0,
      "outputs": [
        {
          "output_type": "stream",
          "text": [
            "Count: 5000\n",
            "Mean:  $1,027,935.07\n",
            "SD:  $613,135.63\n",
            "Max:  $6,235,603.70\n",
            "Min:  $155,240.95\n"
          ],
          "name": "stdout"
        }
      ]
    },
    {
      "cell_type": "code",
      "metadata": {
        "id": "bMQhmsZcSoYv",
        "colab_type": "code",
        "outputId": "d212044f-4f65-4461-d996-26fc58ee449c",
        "colab": {
          "base_uri": "https://localhost:8080/",
          "height": 177
        }
      },
      "source": [
        "# EXPLORE - Look at summary statistics with Pandas\n",
        "\n",
        "ending_values = sim.loc[29]\n",
        "ending_values.describe()"
      ],
      "execution_count": 0,
      "outputs": [
        {
          "output_type": "execute_result",
          "data": {
            "text/plain": [
              "count    5.000000e+03\n",
              "mean     1.027935e+06\n",
              "std      6.131970e+05\n",
              "min      1.552410e+05\n",
              "25%      6.095900e+05\n",
              "50%      8.791216e+05\n",
              "75%      1.269254e+06\n",
              "max      6.235604e+06\n",
              "Name: 29, dtype: float64"
            ]
          },
          "metadata": {
            "tags": []
          },
          "execution_count": 8
        }
      ]
    },
    {
      "cell_type": "code",
      "metadata": {
        "id": "ZqghCrqFTR9v",
        "colab_type": "code",
        "outputId": "c1883426-1706-4b99-adfe-05eacd830e64",
        "colab": {
          "base_uri": "https://localhost:8080/",
          "height": 904
        }
      },
      "source": [
        "# EXPLORE - Look at histogram\n",
        "\n",
        "plots.hist(ending_values, bins=100)\n"
      ],
      "execution_count": 0,
      "outputs": [
        {
          "output_type": "execute_result",
          "data": {
            "text/plain": [
              "(array([  9.,  59.,  83., 165., 236., 273., 301., 288., 289., 299., 277.,\n",
              "        242., 256., 215., 206., 170., 162., 167., 147., 121., 115.,  76.,\n",
              "         90.,  78.,  68.,  56.,  59.,  40.,  48.,  45.,  37.,  35.,  20.,\n",
              "         31.,  22.,  18.,  19.,  20.,  16.,  10.,  12.,   8.,   4.,  12.,\n",
              "         15.,  13.,   3.,   8.,   4.,   6.,   2.,   5.,   1.,   1.,   3.,\n",
              "          2.,   3.,   4.,   1.,   2.,   1.,   2.,   1.,   1.,   3.,   0.,\n",
              "          2.,   3.,   0.,   0.,   0.,   0.,   1.,   1.,   0.,   1.,   1.,\n",
              "          1.,   0.,   1.,   0.,   0.,   0.,   0.,   1.,   0.,   0.,   1.,\n",
              "          0.,   0.,   0.,   0.,   0.,   0.,   1.,   0.,   0.,   0.,   0.,\n",
              "          1.]), array([ 155240.95  ,  216044.5775,  276848.205 ,  337651.8325,\n",
              "         398455.46  ,  459259.0875,  520062.715 ,  580866.3425,\n",
              "         641669.97  ,  702473.5975,  763277.225 ,  824080.8525,\n",
              "         884884.48  ,  945688.1075, 1006491.735 , 1067295.3625,\n",
              "        1128098.99  , 1188902.6175, 1249706.245 , 1310509.8725,\n",
              "        1371313.5   , 1432117.1275, 1492920.755 , 1553724.3825,\n",
              "        1614528.01  , 1675331.6375, 1736135.265 , 1796938.8925,\n",
              "        1857742.52  , 1918546.1475, 1979349.775 , 2040153.4025,\n",
              "        2100957.03  , 2161760.6575, 2222564.285 , 2283367.9125,\n",
              "        2344171.54  , 2404975.1675, 2465778.795 , 2526582.4225,\n",
              "        2587386.05  , 2648189.6775, 2708993.305 , 2769796.9325,\n",
              "        2830600.56  , 2891404.1875, 2952207.815 , 3013011.4425,\n",
              "        3073815.07  , 3134618.6975, 3195422.325 , 3256225.9525,\n",
              "        3317029.58  , 3377833.2075, 3438636.835 , 3499440.4625,\n",
              "        3560244.09  , 3621047.7175, 3681851.345 , 3742654.9725,\n",
              "        3803458.6   , 3864262.2275, 3925065.855 , 3985869.4825,\n",
              "        4046673.11  , 4107476.7375, 4168280.365 , 4229083.9925,\n",
              "        4289887.62  , 4350691.2475, 4411494.875 , 4472298.5025,\n",
              "        4533102.13  , 4593905.7575, 4654709.385 , 4715513.0125,\n",
              "        4776316.64  , 4837120.2675, 4897923.895 , 4958727.5225,\n",
              "        5019531.15  , 5080334.7775, 5141138.405 , 5201942.0325,\n",
              "        5262745.66  , 5323549.2875, 5384352.915 , 5445156.5425,\n",
              "        5505960.17  , 5566763.7975, 5627567.425 , 5688371.0525,\n",
              "        5749174.68  , 5809978.3075, 5870781.935 , 5931585.5625,\n",
              "        5992389.19  , 6053192.8175, 6113996.445 , 6174800.0725,\n",
              "        6235603.7   ]), <a list of 100 Patch objects>)"
            ]
          },
          "metadata": {
            "tags": []
          },
          "execution_count": 9
        },
        {
          "output_type": "display_data",
          "data": {
            "image/png": "[encoded data removed]",
            "text/plain": [
              "<Figure size 432x288 with 1 Axes>"
            ]
          },
          "metadata": {
            "tags": []
          }
        }
      ]
    },
    {
      "cell_type": "code",
      "metadata": {
        "id": "8OJoMk71TaMX",
        "colab_type": "code",
        "outputId": "92e1709a-9b16-4396-9f47-ca3b8473215b",
        "colab": {
          "base_uri": "https://localhost:8080/",
          "height": 35
        }
      },
      "source": [
        "# ANALYZE - Probability of seeing greater than a specific value?\n",
        "\n",
        "len(ending_values[ending_values>1000000]) / len(ending_values)\n"
      ],
      "execution_count": 0,
      "outputs": [
        {
          "output_type": "execute_result",
          "data": {
            "text/plain": [
              "0.4068"
            ]
          },
          "metadata": {
            "tags": []
          },
          "execution_count": 10
        }
      ]
    },
    {
      "cell_type": "code",
      "metadata": {
        "id": "WRiuD-tITki2",
        "colab_type": "code",
        "outputId": "3c83dff5-22c9-40d7-ce51-38eeb7d5f795",
        "colab": {
          "base_uri": "https://localhost:8080/",
          "height": 159
        }
      },
      "source": [
        "# ANALYZE - Tableof all percentiles\n",
        "\n",
        "\n",
        "p_tiles = np.percentile(ending_values,[5,10,15,25,75,85,90, 95])\n",
        "for p in range(len(p_tiles)):\n",
        "    l = [5,10,15,25,75,85,90,95]\n",
        "    print( \"{}%-ile: \".format(l[p]).rjust(15),\"{}\".format(format_currency(p_tiles[p], 'USD')))"
      ],
      "execution_count": 0,
      "outputs": [
        {
          "output_type": "stream",
          "text": [
            "       5%-ile:  $376,638.65\n",
            "      10%-ile:  $445,581.47\n",
            "      15%-ile:  $503,165.82\n",
            "      25%-ile:  $609,590.01\n",
            "      75%-ile:  $1,269,254.46\n",
            "      85%-ile:  $1,557,638.74\n",
            "      90%-ile:  $1,778,164.51\n",
            "      95%-ile:  $2,192,723.03\n"
          ],
          "name": "stdout"
        }
      ]
    },
    {
      "cell_type": "code",
      "metadata": {
        "id": "pEtuouk6_Dig",
        "colab_type": "code",
        "colab": {}
      },
      "source": [
        ""
      ],
      "execution_count": 0,
      "outputs": []
    }
  ]
}