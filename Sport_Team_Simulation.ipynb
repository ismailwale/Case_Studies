{
  "nbformat": 4,
  "nbformat_minor": 0,
  "metadata": {
    "colab": {
      "name": "Sport-Team-Simulation.ipynb",
      "version": "0.3.2",
      "provenance": [],
      "include_colab_link": true
    },
    "kernelspec": {
      "name": "python3",
      "display_name": "Python 3"
    }
  },
  "cells": [
    {
      "cell_type": "markdown",
      "metadata": {
        "id": "view-in-github",
        "colab_type": "text"
      },
      "source": [
        "<a href=\"https://colab.research.google.com/github/toraaglobal/CaseStudies/blob/master/Sport_Team_Simulation.ipynb\" target=\"_parent\"><img src=\"https://colab.research.google.com/assets/colab-badge.svg\" alt=\"Open In Colab\"/></a>"
      ]
    },
    {
      "cell_type": "code",
      "metadata": {
        "id": "9k8ZuIyMJhGH",
        "colab_type": "code",
        "colab": {
          "base_uri": "https://localhost:8080/",
          "height": 88
        },
        "outputId": "c4163cb5-9dcd-4099-e668-ade25c7ea598"
      },
      "source": [
        "!pip install pyprind "
      ],
      "execution_count": 5,
      "outputs": [
        {
          "output_type": "stream",
          "text": [
            "Collecting pyprind\n",
            "  Downloading https://files.pythonhosted.org/packages/1e/30/e76fb0c45da8aef49ea8d2a90d4e7a6877b45894c25f12fb961f009a891e/PyPrind-2.11.2-py3-none-any.whl\n",
            "Installing collected packages: pyprind\n",
            "Successfully installed pyprind-2.11.2\n"
          ],
          "name": "stdout"
        }
      ]
    },
    {
      "cell_type": "code",
      "metadata": {
        "id": "VDF_lqQHHu11",
        "colab_type": "code",
        "colab": {}
      },
      "source": [
        "# Sports Team Simulation\n",
        "# Baseball\n",
        "# Based on Miller (2015)\n",
        "\n",
        "import numpy as np\n",
        "import random\n",
        "from scipy.stats import nbinom\n",
        "from array import array\n",
        "\n",
        "import pyprind   # PROVIDES TIMING AWARENESS\n"
      ],
      "execution_count": 0,
      "outputs": []
    },
    {
      "cell_type": "code",
      "metadata": {
        "id": "4AdAAjJ9H-rA",
        "colab_type": "code",
        "colab": {}
      },
      "source": [
        "def simulator(home_mean, away_mean, niterations):\n",
        "    # estimates probability of home team win\n",
        "    #seed(1234)  # set to obtain reproducible results\n",
        "    home_game_score = [0] * niterations\n",
        "    away_game_score = [0] * niterations\n",
        "    home_win = [0] * niterations\n",
        "    i = 0\n",
        "    while (i < niterations):\n",
        "        home_game_score[i] = nbinom.rvs(n = 4.0, p = 4.0/(4.0 + home_mean), size = 1)[0] \n",
        "        away_game_score[i] = nbinom.rvs(n = 4.0, p = 4.0/(4.0 + away_mean), size = 1)[0]         \n",
        "        if (home_game_score[i] > away_game_score[i]):\n",
        "            home_win[i] = 1\n",
        "        if ((away_game_score[i] > home_game_score[i]) or (away_game_score[i] < home_game_score[i])):\n",
        "            i = i + 1 \n",
        "    n_home_win = sum(home_win)\n",
        "    return n_home_win / niterations"
      ],
      "execution_count": 0,
      "outputs": []
    },
    {
      "cell_type": "code",
      "metadata": {
        "id": "QoJ-grkhIlCI",
        "colab_type": "code",
        "colab": {}
      },
      "source": [
        "# NOT USED FOR IN CLASS DEMO\n",
        "\n",
        "#pbar = pyprind.ProgBar(50000)\n",
        "\n",
        "#niterations = 100  # use smaller number for testing\n",
        "# probability matrix for results... home team rows, away team columns\n",
        "#probmat = array([[0] * 9] * 9)\n",
        "\n",
        "# matrix representation of home and away team runs for table\n",
        "#homemat = array([[9] * 9, [8] * 9, [7] * 9, [6] * 9, [5] * 9,[4] * 9, [3] * 9, [2] *9, [1] * 9])\n",
        "#awayrow = array([1, 2, 3, 4, 5, 6, 7, 8, 9])    \n",
        "#awaymat = array([awayrow] * 9)\n",
        "\n",
        "# generate table of probabilities\n",
        "#for index_home in range(9):\n",
        "#    for index_away in range(9):\n",
        "#        if (homemat[index_home,index_away] != awaymat[index_home,index_away]):\n",
        "#            print(index_home, index_away)\n",
        "#            probmat[index_home, index_away] = simulator(float(homemat[index_home, index_away]),float(awaymat[index_home, index_away]), niterations)\n",
        "#            pbar.update()\n",
        "#\n",
        "#print(probmat)"
      ],
      "execution_count": 0,
      "outputs": []
    },
    {
      "cell_type": "code",
      "metadata": {
        "id": "_oocnfbJJYVv",
        "colab_type": "code",
        "colab": {
          "base_uri": "https://localhost:8080/",
          "height": 35
        },
        "outputId": "b4f028e5-26cc-4f5a-b265-5b264c21b1d7"
      },
      "source": [
        "# estimates probability of home team win\n",
        "random.seed(1234)  # set to obtain reproducible results\n",
        "\n",
        "niterations = 100000  # use smaller number for testing\n",
        "\n",
        "home_game_score = [0] * niterations\n",
        "away_game_score = [0] * niterations\n",
        "home_mean = 5.97\n",
        "away_mean = 4.97\n",
        "i = 0\n",
        "while (i < niterations):\n",
        "    home_game_score[i] = nbinom.rvs(n = 4.0, p = 4.0/(4.0 + home_mean), size = 1)[0] \n",
        "    away_game_score[i] = nbinom.rvs(n = 4.0, p = 4.0/(4.0 + away_mean), size = 1)[0]         \n",
        "    i = i + 1 \n",
        "\n",
        "np.mean(home_game_score)"
      ],
      "execution_count": 9,
      "outputs": [
        {
          "output_type": "execute_result",
          "data": {
            "text/plain": [
              "5.97459"
            ]
          },
          "metadata": {
            "tags": []
          },
          "execution_count": 9
        }
      ]
    },
    {
      "cell_type": "code",
      "metadata": {
        "id": "1ulYtJnaKRXn",
        "colab_type": "code",
        "colab": {
          "base_uri": "https://localhost:8080/",
          "height": 35
        },
        "outputId": "0bdcf385-d637-4700-f72f-af94debeea21"
      },
      "source": [
        "np.mean(away_game_score)\n"
      ],
      "execution_count": 10,
      "outputs": [
        {
          "output_type": "execute_result",
          "data": {
            "text/plain": [
              "4.94972"
            ]
          },
          "metadata": {
            "tags": []
          },
          "execution_count": 10
        }
      ]
    },
    {
      "cell_type": "code",
      "metadata": {
        "id": "lbwgPJrwKXjA",
        "colab_type": "code",
        "colab": {
          "base_uri": "https://localhost:8080/",
          "height": 1286
        },
        "outputId": "4c72f332-d690-4472-dcf1-4cb1385f9c67"
      },
      "source": [
        "#  BUILD PLOTS FOR Negative Binomial MODEL\n",
        "import seaborn as sns\n",
        "\n",
        "import matplotlib.pyplot as plt\n",
        "\n",
        "mas = 4 / (4+4.97)\n",
        "mad = 4 / (4 + 3.45)\n",
        "yhs = 4 / (4 + 5.97)\n",
        "yhd = 4 / (4 + 4.84)\n",
        "\n",
        "MetAwayScore = np.random.negative_binomial(4, mas, 10000)\n",
        "MetAwayDefend = np.random.negative_binomial(4, mad, 10000)\n",
        "YankHomeScore = np.random.negative_binomial(4, yhs, 10000)\n",
        "YankHomeDefend = np.random.negative_binomial(4, yhd, 10000)\n",
        "\n",
        "plt.hist(MetAwayScore, bins='auto', rwidth = .5, normed=True)\n",
        "plt.title(\"Runs Scored - Mets\")\n",
        "plt.show()\n",
        "\n",
        "plt.hist(MetAwayDefend, bins='auto', rwidth = .5, normed=True) \n",
        "plt.title(\"Runs Allowed - Mets\")\n",
        "plt.show()\n",
        "\n",
        "plt.hist(YankHomeScore, bins='auto', rwidth = .5, normed=True) \n",
        "plt.title(\"Runs Scored - Yanks\")\n",
        "plt.show()\n",
        "\n",
        "plt.hist(YankHomeDefend, bins='auto', rwidth = .5, normed=True)\n",
        "plt.title(\"Runs Allowed - Yanks\")\n",
        "plt.show()"
      ],
      "execution_count": 11,
      "outputs": [
        {
          "output_type": "stream",
          "text": [
            "/usr/local/lib/python3.6/dist-packages/matplotlib/axes/_axes.py:6521: MatplotlibDeprecationWarning: \n",
            "The 'normed' kwarg was deprecated in Matplotlib 2.1 and will be removed in 3.1. Use 'density' instead.\n",
            "  alternative=\"'density'\", removal=\"3.1\")\n"
          ],
          "name": "stderr"
        },
        {
          "output_type": "display_data",
          "data": {
            "image/png": "[encoded data removed]",
            "text/plain": [
              "<Figure size 432x288 with 1 Axes>"
            ]
          },
          "metadata": {
            "tags": []
          }
        },
        {
          "output_type": "stream",
          "text": [
            "/usr/local/lib/python3.6/dist-packages/matplotlib/axes/_axes.py:6521: MatplotlibDeprecationWarning: \n",
            "The 'normed' kwarg was deprecated in Matplotlib 2.1 and will be removed in 3.1. Use 'density' instead.\n",
            "  alternative=\"'density'\", removal=\"3.1\")\n"
          ],
          "name": "stderr"
        },
        {
          "output_type": "display_data",
          "data": {
            "image/png": "[encoded data removed]",
            "text/plain": [
              "<Figure size 432x288 with 1 Axes>"
            ]
          },
          "metadata": {
            "tags": []
          }
        },
        {
          "output_type": "stream",
          "text": [
            "/usr/local/lib/python3.6/dist-packages/matplotlib/axes/_axes.py:6521: MatplotlibDeprecationWarning: \n",
            "The 'normed' kwarg was deprecated in Matplotlib 2.1 and will be removed in 3.1. Use 'density' instead.\n",
            "  alternative=\"'density'\", removal=\"3.1\")\n"
          ],
          "name": "stderr"
        },
        {
          "output_type": "display_data",
          "data": {
            "image/png": "[encoded data removed]",
            "text/plain": [
              "<Figure size 432x288 with 1 Axes>"
            ]
          },
          "metadata": {
            "tags": []
          }
        },
        {
          "output_type": "stream",
          "text": [
            "/usr/local/lib/python3.6/dist-packages/matplotlib/axes/_axes.py:6521: MatplotlibDeprecationWarning: \n",
            "The 'normed' kwarg was deprecated in Matplotlib 2.1 and will be removed in 3.1. Use 'density' instead.\n",
            "  alternative=\"'density'\", removal=\"3.1\")\n"
          ],
          "name": "stderr"
        },
        {
          "output_type": "display_data",
          "data": {
            "image/png": "[encoded data removed]",
            "text/plain": [
              "<Figure size 432x288 with 1 Axes>"
            ]
          },
          "metadata": {
            "tags": []
          }
        }
      ]
    },
    {
      "cell_type": "code",
      "metadata": {
        "id": "RS2yK0DTKmMo",
        "colab_type": "code",
        "colab": {
          "base_uri": "https://localhost:8080/",
          "height": 1286
        },
        "outputId": "6bbf5d90-1302-4f4a-fd6f-cd39b2e8f7b6"
      },
      "source": [
        "#  BUILD PLOTS FOR Poisson MODEL\n",
        "\n",
        "MetAwayScore = np.random.poisson(4.97, 1000000)\n",
        "MetAwayDefend = np.random.poisson(3.45, 100000)\n",
        "YankHomeScore = np.random.poisson(5.97, 10000)\n",
        "YankHomeDefend = np.random.poisson(4.84, 10000)\n",
        "\n",
        "plt.hist(MetAwayScore, bins='auto', rwidth = .5, normed=True) \n",
        "plt.title(\"Runs Scored - Mets\")\n",
        "plt.show()\n",
        "\n",
        "plt.hist(MetAwayDefend, bins='auto', rwidth = .5, normed=True)  \n",
        "plt.title(\"Runs Allowed - Mets\")\n",
        "plt.show()\n",
        "\n",
        "plt.hist(YankHomeScore, bins='auto', rwidth = .5, normed=True)  \n",
        "plt.title(\"Runs Scored - Yanks\")\n",
        "plt.show()\n",
        "\n",
        "plt.hist(YankHomeDefend, bins='auto', rwidth = .5, normed=True) \n",
        "plt.title(\"Runs Allowed - Yanks\")\n",
        "plt.show()"
      ],
      "execution_count": 12,
      "outputs": [
        {
          "output_type": "stream",
          "text": [
            "/usr/local/lib/python3.6/dist-packages/matplotlib/axes/_axes.py:6521: MatplotlibDeprecationWarning: \n",
            "The 'normed' kwarg was deprecated in Matplotlib 2.1 and will be removed in 3.1. Use 'density' instead.\n",
            "  alternative=\"'density'\", removal=\"3.1\")\n"
          ],
          "name": "stderr"
        },
        {
          "output_type": "display_data",
          "data": {
            "image/png": "[encoded data removed]",
            "text/plain": [
              "<Figure size 432x288 with 1 Axes>"
            ]
          },
          "metadata": {
            "tags": []
          }
        },
        {
          "output_type": "stream",
          "text": [
            "/usr/local/lib/python3.6/dist-packages/matplotlib/axes/_axes.py:6521: MatplotlibDeprecationWarning: \n",
            "The 'normed' kwarg was deprecated in Matplotlib 2.1 and will be removed in 3.1. Use 'density' instead.\n",
            "  alternative=\"'density'\", removal=\"3.1\")\n"
          ],
          "name": "stderr"
        },
        {
          "output_type": "display_data",
          "data": {
            "image/png": "[encoded data removed]",
            "text/plain": [
              "<Figure size 432x288 with 1 Axes>"
            ]
          },
          "metadata": {
            "tags": []
          }
        },
        {
          "output_type": "stream",
          "text": [
            "/usr/local/lib/python3.6/dist-packages/matplotlib/axes/_axes.py:6521: MatplotlibDeprecationWarning: \n",
            "The 'normed' kwarg was deprecated in Matplotlib 2.1 and will be removed in 3.1. Use 'density' instead.\n",
            "  alternative=\"'density'\", removal=\"3.1\")\n"
          ],
          "name": "stderr"
        },
        {
          "output_type": "display_data",
          "data": {
            "image/png": "[encoded data removed]",
            "text/plain": [
              "<Figure size 432x288 with 1 Axes>"
            ]
          },
          "metadata": {
            "tags": []
          }
        },
        {
          "output_type": "stream",
          "text": [
            "/usr/local/lib/python3.6/dist-packages/matplotlib/axes/_axes.py:6521: MatplotlibDeprecationWarning: \n",
            "The 'normed' kwarg was deprecated in Matplotlib 2.1 and will be removed in 3.1. Use 'density' instead.\n",
            "  alternative=\"'density'\", removal=\"3.1\")\n"
          ],
          "name": "stderr"
        },
        {
          "output_type": "display_data",
          "data": {
            "image/png": "[encoded data removed]",
            "text/plain": [
              "<Figure size 432x288 with 1 Axes>"
            ]
          },
          "metadata": {
            "tags": []
          }
        }
      ]
    },
    {
      "cell_type": "code",
      "metadata": {
        "id": "e1W9VUFSK9Il",
        "colab_type": "code",
        "colab": {}
      },
      "source": [
        "# Suggestion for the student: Develop simulators for football or basketball.\n",
        "# Use matplotlib to create a probability heat-map for the probmat results."
      ],
      "execution_count": 0,
      "outputs": []
    },
    {
      "cell_type": "code",
      "metadata": {
        "id": "w7V7AJQrLHDk",
        "colab_type": "code",
        "colab": {}
      },
      "source": [
        "n_iteration = [100,1000,10000,100000,1000000]\n",
        "\n",
        "home_mean = 20\n",
        "away_mean = 5\n",
        "\n",
        "score = []\n",
        "\n",
        "for iter in n_iteration:\n",
        "  score.append(simulator(home_mean,away_mean ,iter))\n",
        "  "
      ],
      "execution_count": 0,
      "outputs": []
    },
    {
      "cell_type": "code",
      "metadata": {
        "id": "62mk1knhNJRl",
        "colab_type": "code",
        "colab": {
          "base_uri": "https://localhost:8080/",
          "height": 269
        },
        "outputId": "80d6a02f-7c77-411a-b88d-d817f45e538c"
      },
      "source": [
        "plt.figure()\n",
        "plt.plot(n_iteration,score )\n",
        "\n",
        "plt.show()"
      ],
      "execution_count": 19,
      "outputs": [
        {
          "output_type": "display_data",
          "data": {
            "image/png": "[encoded data removed]",
            "text/plain": [
              "<Figure size 432x288 with 1 Axes>"
            ]
          },
          "metadata": {
            "tags": []
          }
        }
      ]
    },
    {
      "cell_type": "code",
      "metadata": {
        "id": "f6maGnTJN1Kf",
        "colab_type": "code",
        "colab": {}
      },
      "source": [
        ""
      ],
      "execution_count": 0,
      "outputs": []
    }
  ]
}